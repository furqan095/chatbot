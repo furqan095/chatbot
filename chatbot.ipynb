{
 "cells": [
  {
   "cell_type": "markdown",
   "id": "01ccf0cc",
   "metadata": {},
   "source": [
    "## CHATBOT FOR UNIVERSITY"
   ]
  },
  {
   "cell_type": "markdown",
   "id": "a47d8e4e",
   "metadata": {},
   "source": [
    "## Importing Libraries"
   ]
  },
  {
   "cell_type": "code",
   "execution_count": 1,
   "id": "ace73d73",
   "metadata": {},
   "outputs": [],
   "source": [
    "import nltk\n",
    "#nltk.download('punkt') #to tokenize the word\n",
    "#nltk.download('wordnet') \n",
    "from nltk.stem import WordNetLemmatizer\n",
    "lemmatizer = WordNetLemmatizer()"
   ]
  },
  {
   "cell_type": "code",
   "execution_count": 2,
   "id": "1eb2b71e",
   "metadata": {},
   "outputs": [],
   "source": [
    "import json\n",
    "import pickle\n",
    "import string\n",
    "import matplotlib.pyplot as plt\n",
    "import tensorflow as tf\n",
    "from sklearn.model_selection import train_test_split\n",
    "from sklearn.metrics import classification_report,confusion_matrix,accuracy_score"
   ]
  },
  {
   "cell_type": "code",
   "execution_count": 3,
   "id": "ef260dd1",
   "metadata": {},
   "outputs": [],
   "source": [
    "import numpy as np\n",
    "from keras.models import Sequential\n",
    "from keras.layers import Dense, Dropout\n",
    "from tensorflow.keras.optimizers import Adam\n",
    "import random\n",
    "from sklearn.metrics import mean_squared_error"
   ]
  },
  {
   "cell_type": "markdown",
   "id": "d52aaa09",
   "metadata": {},
   "source": [
    "## Reading the dataset"
   ]
  },
  {
   "cell_type": "code",
   "execution_count": 4,
   "id": "52d14900",
   "metadata": {},
   "outputs": [],
   "source": [
    "words = []\n",
    "classes = []\n",
    "documents =[]\n",
    "data_file = open('intents1.txt',encoding='utf-8').read()\n",
    "intents = json.loads(data_file)"
   ]
  },
  {
   "cell_type": "code",
   "execution_count": 5,
   "id": "e8af0f55",
   "metadata": {},
   "outputs": [],
   "source": [
    "# Setting seed for reproducibility\n",
    "np.random.seed(123)\n",
    "tf.random.set_seed(1234)"
   ]
  },
  {
   "cell_type": "markdown",
   "id": "e62524f6",
   "metadata": {},
   "source": [
    "## Preprocessing"
   ]
  },
  {
   "cell_type": "code",
   "execution_count": 82,
   "id": "0b6f615d",
   "metadata": {},
   "outputs": [
    {
     "name": "stdout",
     "output_type": "stream",
     "text": [
      "438 documents [(['Hi'], 'greeting'), (['How', 'are', 'you'], 'greeting'), (['Is', 'anyone', 'there', '?'], 'greeting'), (['Hello'], 'greeting'), (['Good', 'day'], 'greeting'), (['Whats', 'up'], 'greeting'), (['how', 'are', 'ya'], 'greeting'), (['heyy'], 'greeting'), (['whatsup'], 'greeting'), (['cya'], 'goodbye'), (['see', 'you'], 'goodbye'), (['bye', 'bye'], 'goodbye'), (['See', 'you', 'later'], 'goodbye'), (['Goodbye'], 'goodbye'), (['I', 'am', 'Leaving'], 'goodbye'), (['Bye'], 'goodbye'), (['Have', 'a', 'Good', 'day'], 'goodbye'), (['talk', 'to', 'you', 'later'], 'goodbye'), (['tyyl'], 'goodbye'), (['i', 'got', 'to', 'go'], 'goodbye'), (['gtg'], 'goodbye'), (['what', 'is', 'the', 'name', 'of', 'your', 'developers'], 'creator'), (['what', 'is', 'the', 'name', 'of', 'your', 'creators'], 'creator'), (['what', 'is', 'the', 'name', 'of', 'the', 'developers'], 'creator'), (['what', 'is', 'the', 'name', 'of', 'the', 'creators'], 'creator'), (['who', 'created', 'you'], 'creator'), (['your', 'developers'], 'creator'), (['your', 'creators'], 'creator'), (['who', 'are', 'your', 'developers'], 'creator'), (['developers'], 'creator'), (['you', 'are', 'made', 'by'], 'creator'), (['you', 'are', 'made', 'by', 'whom'], 'creator'), (['who', 'created', 'you'], 'creator'), (['who', 'create', 'you'], 'creator'), (['creators'], 'creator'), (['who', 'made', 'you'], 'creator'), (['who', 'designed', 'you'], 'creator'), (['name'], 'name'), (['your', 'name'], 'name'), (['do', 'you', 'have', 'a', 'name'], 'name'), (['what', 'are', 'you', 'called'], 'name'), (['what', 'is', 'your', 'name'], 'name'), (['what', 'should', 'I', 'call', 'you'], 'name'), (['whats', 'your', 'name', '?'], 'name'), (['what', 'are', 'you'], 'name'), (['who', 'are', 'you'], 'name'), (['who', 'is', 'this'], 'name'), (['what', 'am', 'i', 'chatting', 'to'], 'name'), (['who', 'am', 'i', 'taking', 'to'], 'name'), (['what', 'are', 'you'], 'name'), (['timing', 'of', 'University'], 'hours'), (['what', 'is', 'university', 'timing'], 'hours'), (['working', 'days'], 'hours'), (['when', 'are', 'you', 'guys', 'open'], 'hours'), (['what', 'are', 'your', 'hours'], 'hours'), (['hours', 'of', 'operation'], 'hours'), (['when', 'is', 'the', 'university', 'open'], 'hours'), (['university', 'timing'], 'hours'), (['what', 'about', 'university', 'timing'], 'hours'), (['is', 'university', 'open', 'on', 'saturday'], 'hours'), (['tell', 'something', 'about', 'university', 'timing'], 'hours'), (['what', 'is', 'the', 'university', 'hours'], 'hours'), (['when', 'should', 'i', 'come', 'to', 'university'], 'hours'), (['when', 'should', 'i', 'attend', 'university'], 'hours'), (['what', 'is', 'my', 'university', 'time'], 'hours'), (['university', 'timing'], 'hours'), (['timing', 'university'], 'hours'), (['more', 'info'], 'number'), (['contact', 'info'], 'number'), (['how', 'to', 'contact', 'university'], 'number'), (['university', 'telephone', 'number'], 'number'), (['university', 'number'], 'number'), (['What', 'is', 'your', 'contact', 'no'], 'number'), (['Contact', 'number', '?'], 'number'), (['how', 'to', 'call', 'you'], 'number'), (['university', 'phone', 'no', '?'], 'number'), (['how', 'can', 'i', 'contact', 'you'], 'number'), (['Can', 'i', 'get', 'your', 'phone', 'number'], 'number'), (['how', 'can', 'i', 'call', 'you'], 'number'), (['phone', 'number'], 'number'), (['phone', 'no'], 'number'), (['call'], 'number'), (['list', 'of', 'courses'], 'course'), (['list', 'of', 'courses', 'offered'], 'course'), (['list', 'of', 'courses', 'offered', 'in', 'University', 'of', 'Derby'], 'course'), (['what', 'are', 'the', 'courses', 'offered', 'in', 'your', 'university', '?'], 'course'), (['courses', '?'], 'course'), (['courses', 'offered'], 'course'), (['courses', 'offered', 'in', 'University', 'of', 'Derby'], 'course'), (['courses', 'you', 'offer'], 'course'), (['branches', '?'], 'course'), (['courses', 'available', 'at', 'UoD', '?'], 'course'), (['branches', 'available', 'at', 'UoD', '?'], 'course'), (['what', 'are', 'the', 'courses', 'in', 'UoD', '?'], 'course'), (['what', 'are', 'branches', 'in', 'UoD', '?'], 'course'), (['what', 'are', 'courses', 'in', 'UoD', '?'], 'course'), (['branches', 'available', 'in', 'UoD', '?'], 'course'), (['can', 'you', 'tell', 'me', 'the', 'courses', 'available', 'in', 'UoD', '?'], 'course'), (['can', 'you', 'tell', 'me', 'the', 'branches', 'available', 'in', 'UoD', '?'], 'course'), (['Civil', 'engineering', '?'], 'course'), (['Computer', 'engineering', '?'], 'course'), (['IT', 'engineering', '?'], 'course'), (['Automobile', 'engineering', '?'], 'course'), (['Mechanical', 'engineering', '?'], 'course'), (['EXTC', 'engineering', '?'], 'course'), (['Electrical', 'engineering', '?'], 'course'), (['information', 'about', 'fee'], 'fees'), (['information', 'on', 'fee'], 'fees'), (['tell', 'me', 'the', 'fee'], 'fees'), (['university', 'fee'], 'fees'), (['fee', 'per', 'semester'], 'fees'), (['what', 'is', 'the', 'fee', 'of', 'each', 'semester'], 'fees'), (['what', 'is', 'the', 'fees', 'of', 'each', 'year'], 'fees'), (['what', 'is', 'fee'], 'fees'), (['what', 'is', 'the', 'fees'], 'fees'), (['how', 'much', 'is', 'the', 'fees'], 'fees'), (['fees', 'for', 'first', 'year'], 'fees'), (['fees'], 'fees'), (['about', 'the', 'fees'], 'fees'), (['tell', 'me', 'something', 'about', 'the', 'fees'], 'fees'), (['where', 'is', 'the', 'university', 'located'], 'location'), (['university', 'is', 'located', 'at'], 'location'), (['where', 'is', 'university'], 'location'), (['where', 'is', 'university', 'located'], 'location'), (['address', 'of', 'university'], 'location'), (['how', 'to', 'reach', 'university'], 'location'), (['university', 'location'], 'location'), (['university', 'address'], 'location'), (['wheres', 'the', 'university'], 'location'), (['how', 'can', 'I', 'reach', 'university'], 'location'), (['whats', 'is', 'the', 'university', 'address'], 'location'), (['what', 'is', 'the', 'address', 'of', 'university'], 'location'), (['address'], 'location'), (['location'], 'location'), (['facilities'], 'infrastructure'), (['infrastructure'], 'infrastructure'), (['building'], 'infrastructure'), (['number', 'of', 'floors', 'in', 'bulding'], 'infrastructure'), (['university', 'infrastructure'], 'infrastructure'), (['departments', 'and', 'labs'], 'infrastructure'), (['departments'], 'infrastructure'), (['labs'], 'infrastructure'), (['canteen'], 'infrastructure'), (['tell', 'me', 'about', 'infrastructure'], 'infrastructure'), (['what', 'about', 'infrastructure'], 'infrastructure'), (['is', 'there', 'any', 'library'], 'library'), (['library', 'facility'], 'library'), (['library', 'facilities'], 'library'), (['do', 'you', 'have', 'library'], 'library'), (['does', 'the', 'university', 'have', 'library', 'facility'], 'library'), (['university', 'library'], 'library'), (['where', 'can', 'i', 'get', 'books'], 'library'), (['book', 'facility'], 'library'), (['Where', 'is', 'library'], 'library'), (['Library'], 'library'), (['Tell', 'me', 'about', 'library'], 'library'), (['how', 'many', 'libraries'], 'library'), (['I', 'love', 'you'], 'random'), (['Will', 'you', 'marry', 'me'], 'random'), (['Do', 'you', 'love', 'me'], 'random'), (['fuck'], 'swear'), (['bitch'], 'swear'), (['shut', 'up'], 'swear'), (['hell'], 'swear'), (['stupid'], 'swear'), (['idiot'], 'swear'), (['dumb', 'ass'], 'swear'), (['asshole'], 'swear'), (['fucker'], 'swear'), (['okk'], 'salutaion'), (['okie'], 'salutaion'), (['nice', 'work'], 'salutaion'), (['well', 'done'], 'salutaion'), (['good', 'job'], 'salutaion'), (['thanks', 'for', 'the', 'help'], 'salutaion'), (['Thank', 'You'], 'salutaion'), (['its', 'ok'], 'salutaion'), (['Thanks'], 'salutaion'), (['k'], 'salutaion'), (['ok'], 'salutaion'), (['okay'], 'salutaion'), (['what', 'can', 'you', 'do'], 'task'), (['what', 'are', 'the', 'thing', 'you', 'can', 'do'], 'task'), (['things', 'you', 'can', 'do'], 'task'), (['what', 'can', 'u', 'do', 'for', 'me'], 'task'), (['how', 'u', 'can', 'help', 'me'], 'task'), (['why', 'i', 'should', 'use', 'you'], 'task'), (['bus', 'route'], 'transport'), (['mode', 'of', 'transportation'], 'transport'), (['how', 'to', 'get', 'to', 'university'], 'transport'), (['buses', 'for', 'university'], 'transport'), (['university', 'buses'], 'transport'), (['bus', 'routes'], 'transport'), (['list', 'of', 'buses', 'for', 'travelling'], 'transport'), (['scholarship'], 'scholarship'), (['Is', 'scholarship', 'available'], 'scholarship'), (['scholarship', 'engineering'], 'scholarship'), (['available', 'scholarships'], 'scholarship'), (['list', 'of', 'scholarship'], 'scholarship'), (['faculty'], 'faculty'), (['faculty', 'details'], 'faculty'), (['faculty', 'fe'], 'faculty'), (['faculty', 'se'], 'faculty'), (['faculty', 'te'], 'faculty'), (['faculty', 'be'], 'faculty'), (['give', 'faculty', 'details'], 'faculty'), (['tell', 'me', 'about', 'the', 'faculty'], 'faculty'), (['how', 'is', 'the', 'faculty'], 'faculty'), (['staff'], 'faculty'), (['please', 'give', 'information', 'about', 'faculty'], 'faculty'), (['faculty', 'information'], 'faculty'), (['faculty', '?'], 'faculty'), (['sports', 'and', 'games'], 'sports'), (['give', 'sports', 'details'], 'sports'), (['sports', 'infrastructure'], 'sports'), (['sports', 'facilities'], 'sports'), (['sports', 'facilities'], 'sports'), (['information', 'about', 'sports'], 'sports'), (['please', 'provide', 'sports', 'and', 'games', 'information'], 'sports'), (['Hi'], 'greeting'), (['How', 'are', 'you'], 'greeting'), (['Is', 'anyone', 'there', '?'], 'greeting'), (['Hello'], 'greeting'), (['Good', 'day'], 'greeting'), (['Whats', 'up'], 'greeting'), (['how', 'are', 'ya'], 'greeting'), (['heyy'], 'greeting'), (['whatsup'], 'greeting'), (['cya'], 'goodbye'), (['see', 'you'], 'goodbye'), (['bye', 'bye'], 'goodbye'), (['See', 'you', 'later'], 'goodbye'), (['Goodbye'], 'goodbye'), (['I', 'am', 'Leaving'], 'goodbye'), (['Bye'], 'goodbye'), (['Have', 'a', 'Good', 'day'], 'goodbye'), (['talk', 'to', 'you', 'later'], 'goodbye'), (['tyyl'], 'goodbye'), (['i', 'got', 'to', 'go'], 'goodbye'), (['gtg'], 'goodbye'), (['what', 'is', 'the', 'name', 'of', 'your', 'developers'], 'creator'), (['what', 'is', 'the', 'name', 'of', 'your', 'creators'], 'creator'), (['what', 'is', 'the', 'name', 'of', 'the', 'developers'], 'creator'), (['what', 'is', 'the', 'name', 'of', 'the', 'creators'], 'creator'), (['who', 'created', 'you'], 'creator'), (['your', 'developers'], 'creator'), (['your', 'creators'], 'creator'), (['who', 'are', 'your', 'developers'], 'creator'), (['developers'], 'creator'), (['you', 'are', 'made', 'by'], 'creator'), (['you', 'are', 'made', 'by', 'whom'], 'creator'), (['who', 'created', 'you'], 'creator'), (['who', 'create', 'you'], 'creator'), (['creators'], 'creator'), (['who', 'made', 'you'], 'creator'), (['who', 'designed', 'you'], 'creator'), (['name'], 'name'), (['your', 'name'], 'name'), (['do', 'you', 'have', 'a', 'name'], 'name'), (['what', 'are', 'you', 'called'], 'name'), (['what', 'is', 'your', 'name'], 'name'), (['what', 'should', 'I', 'call', 'you'], 'name'), (['whats', 'your', 'name', '?'], 'name'), (['what', 'are', 'you'], 'name'), (['who', 'are', 'you'], 'name'), (['who', 'is', 'this'], 'name'), (['what', 'am', 'i', 'chatting', 'to'], 'name'), (['who', 'am', 'i', 'taking', 'to'], 'name'), (['what', 'are', 'you'], 'name'), (['timing', 'of', 'University'], 'hours'), (['what', 'is', 'university', 'timing'], 'hours'), (['working', 'days'], 'hours'), (['when', 'are', 'you', 'guys', 'open'], 'hours'), (['what', 'are', 'your', 'hours'], 'hours'), (['hours', 'of', 'operation'], 'hours'), (['when', 'is', 'the', 'university', 'open'], 'hours'), (['university', 'timing'], 'hours'), (['what', 'about', 'university', 'timing'], 'hours'), (['is', 'university', 'open', 'on', 'saturday'], 'hours'), (['tell', 'something', 'about', 'university', 'timing'], 'hours'), (['what', 'is', 'the', 'university', 'hours'], 'hours'), (['when', 'should', 'i', 'come', 'to', 'university'], 'hours'), (['when', 'should', 'i', 'attend', 'university'], 'hours'), (['what', 'is', 'my', 'university', 'time'], 'hours'), (['university', 'timing'], 'hours'), (['timing', 'university'], 'hours'), (['more', 'info'], 'number'), (['contact', 'info'], 'number'), (['how', 'to', 'contact', 'university'], 'number'), (['university', 'telephone', 'number'], 'number'), (['university', 'number'], 'number'), (['What', 'is', 'your', 'contact', 'no'], 'number'), (['Contact', 'number', '?'], 'number'), (['how', 'to', 'call', 'you'], 'number'), (['university', 'phone', 'no', '?'], 'number'), (['how', 'can', 'i', 'contact', 'you'], 'number'), (['Can', 'i', 'get', 'your', 'phone', 'number'], 'number'), (['how', 'can', 'i', 'call', 'you'], 'number'), (['phone', 'number'], 'number'), (['phone', 'no'], 'number'), (['call'], 'number'), (['list', 'of', 'courses'], 'course'), (['list', 'of', 'courses', 'offered'], 'course'), (['list', 'of', 'courses', 'offered', 'in', 'University', 'of', 'Derby'], 'course'), (['what', 'are', 'the', 'courses', 'offered', 'in', 'your', 'university', '?'], 'course'), (['courses', '?'], 'course'), (['courses', 'offered'], 'course'), (['courses', 'offered', 'in', 'University', 'of', 'Derby'], 'course'), (['courses', 'you', 'offer'], 'course'), (['branches', '?'], 'course'), (['courses', 'available', 'at', 'UoD', '?'], 'course'), (['branches', 'available', 'at', 'UoD', '?'], 'course'), (['what', 'are', 'the', 'courses', 'in', 'UoD', '?'], 'course'), (['what', 'are', 'branches', 'in', 'UoD', '?'], 'course'), (['what', 'are', 'courses', 'in', 'UoD', '?'], 'course'), (['branches', 'available', 'in', 'UoD', '?'], 'course'), (['can', 'you', 'tell', 'me', 'the', 'courses', 'available', 'in', 'UoD', '?'], 'course'), (['can', 'you', 'tell', 'me', 'the', 'branches', 'available', 'in', 'UoD', '?'], 'course'), (['Civil', 'engineering', '?'], 'course'), (['Computer', 'engineering', '?'], 'course'), (['IT', 'engineering', '?'], 'course'), (['Automobile', 'engineering', '?'], 'course'), (['Mechanical', 'engineering', '?'], 'course'), (['EXTC', 'engineering', '?'], 'course'), (['Electrical', 'engineering', '?'], 'course'), (['information', 'about', 'fee'], 'fees'), (['information', 'on', 'fee'], 'fees'), (['tell', 'me', 'the', 'fee'], 'fees'), (['university', 'fee'], 'fees'), (['fee', 'per', 'semester'], 'fees'), (['what', 'is', 'the', 'fee', 'of', 'each', 'semester'], 'fees'), (['what', 'is', 'the', 'fees', 'of', 'each', 'year'], 'fees'), (['what', 'is', 'fee'], 'fees'), (['what', 'is', 'the', 'fees'], 'fees'), (['how', 'much', 'is', 'the', 'fees'], 'fees'), (['fees', 'for', 'first', 'year'], 'fees'), (['fees'], 'fees'), (['about', 'the', 'fees'], 'fees'), (['tell', 'me', 'something', 'about', 'the', 'fees'], 'fees'), (['where', 'is', 'the', 'university', 'located'], 'location'), (['university', 'is', 'located', 'at'], 'location'), (['where', 'is', 'university'], 'location'), (['where', 'is', 'university', 'located'], 'location'), (['address', 'of', 'university'], 'location'), (['how', 'to', 'reach', 'university'], 'location'), (['university', 'location'], 'location'), (['university', 'address'], 'location'), (['wheres', 'the', 'university'], 'location'), (['how', 'can', 'I', 'reach', 'university'], 'location'), (['whats', 'is', 'the', 'university', 'address'], 'location'), (['what', 'is', 'the', 'address', 'of', 'university'], 'location'), (['address'], 'location'), (['location'], 'location'), (['facilities'], 'infrastructure'), (['infrastructure'], 'infrastructure'), (['building'], 'infrastructure'), (['number', 'of', 'floors', 'in', 'bulding'], 'infrastructure'), (['university', 'infrastructure'], 'infrastructure'), (['departments', 'and', 'labs'], 'infrastructure'), (['departments'], 'infrastructure'), (['labs'], 'infrastructure'), (['canteen'], 'infrastructure'), (['tell', 'me', 'about', 'infrastructure'], 'infrastructure'), (['what', 'about', 'infrastructure'], 'infrastructure'), (['is', 'there', 'any', 'library'], 'library'), (['library', 'facility'], 'library'), (['library', 'facilities'], 'library'), (['do', 'you', 'have', 'library'], 'library'), (['does', 'the', 'university', 'have', 'library', 'facility'], 'library'), (['university', 'library'], 'library'), (['where', 'can', 'i', 'get', 'books'], 'library'), (['book', 'facility'], 'library'), (['Where', 'is', 'library'], 'library'), (['Library'], 'library'), (['Tell', 'me', 'about', 'library'], 'library'), (['how', 'many', 'libraries'], 'library'), (['I', 'love', 'you'], 'random'), (['Will', 'you', 'marry', 'me'], 'random'), (['Do', 'you', 'love', 'me'], 'random'), (['fuck'], 'swear'), (['bitch'], 'swear'), (['shut', 'up'], 'swear'), (['hell'], 'swear'), (['stupid'], 'swear'), (['idiot'], 'swear'), (['dumb', 'ass'], 'swear'), (['asshole'], 'swear'), (['fucker'], 'swear'), (['okk'], 'salutaion'), (['okie'], 'salutaion'), (['nice', 'work'], 'salutaion'), (['well', 'done'], 'salutaion'), (['good', 'job'], 'salutaion'), (['thanks', 'for', 'the', 'help'], 'salutaion'), (['Thank', 'You'], 'salutaion'), (['its', 'ok'], 'salutaion'), (['Thanks'], 'salutaion'), (['k'], 'salutaion'), (['ok'], 'salutaion'), (['okay'], 'salutaion'), (['what', 'can', 'you', 'do'], 'task'), (['what', 'are', 'the', 'thing', 'you', 'can', 'do'], 'task'), (['things', 'you', 'can', 'do'], 'task'), (['what', 'can', 'u', 'do', 'for', 'me'], 'task'), (['how', 'u', 'can', 'help', 'me'], 'task'), (['why', 'i', 'should', 'use', 'you'], 'task'), (['bus', 'route'], 'transport'), (['mode', 'of', 'transportation'], 'transport'), (['how', 'to', 'get', 'to', 'university'], 'transport'), (['buses', 'for', 'university'], 'transport'), (['university', 'buses'], 'transport'), (['bus', 'routes'], 'transport'), (['list', 'of', 'buses', 'for', 'travelling'], 'transport'), (['scholarship'], 'scholarship'), (['Is', 'scholarship', 'available'], 'scholarship'), (['scholarship', 'engineering'], 'scholarship'), (['available', 'scholarships'], 'scholarship'), (['list', 'of', 'scholarship'], 'scholarship'), (['faculty'], 'faculty'), (['faculty', 'details'], 'faculty'), (['faculty', 'fe'], 'faculty'), (['faculty', 'se'], 'faculty'), (['faculty', 'te'], 'faculty'), (['faculty', 'be'], 'faculty'), (['give', 'faculty', 'details'], 'faculty'), (['tell', 'me', 'about', 'the', 'faculty'], 'faculty'), (['how', 'is', 'the', 'faculty'], 'faculty'), (['staff'], 'faculty'), (['please', 'give', 'information', 'about', 'faculty'], 'faculty'), (['faculty', 'information'], 'faculty'), (['faculty', '?'], 'faculty'), (['sports', 'and', 'games'], 'sports'), (['give', 'sports', 'details'], 'sports'), (['sports', 'infrastructure'], 'sports'), (['sports', 'facilities'], 'sports'), (['sports', 'facilities'], 'sports'), (['information', 'about', 'sports'], 'sports'), (['please', 'provide', 'sports', 'and', 'games', 'information'], 'sports')]\n",
      "19 classes ['course', 'creator', 'faculty', 'fees', 'goodbye', 'greeting', 'hours', 'infrastructure', 'library', 'location', 'name', 'number', 'random', 'salutaion', 'scholarship', 'sports', 'swear', 'task', 'transport']\n",
      "174 unique lemmatized words ['a', 'about', 'address', 'am', 'and', 'any', 'anyone', 'are', 'as', 'asshole', 'at', 'attend', 'automobile', 'available', 'be', 'bitch', 'book', 'branch', 'building', 'bulding', 'bus', 'by', 'bye', 'call', 'called', 'can', 'canteen', 'chatting', 'civil', 'come', 'computer', 'contact', 'course', 'create', 'created', 'creator', 'cya', 'day', 'department', 'derby', 'designed', 'detail', 'developer', 'do', 'doe', 'done', 'dumb', 'each', 'electrical', 'engineering', 'extc', 'facility', 'faculty', 'fe', 'fee', 'first', 'floor', 'for', 'fuck', 'fucker', 'game', 'get', 'give', 'go', 'good', 'goodbye', 'got', 'gtg', 'guy', 'have', 'hell', 'hello', 'help', 'heyy', 'hi', 'hour', 'how', 'i', 'idiot', 'in', 'info', 'information', 'infrastructure', 'is', 'it', 'job', 'k', 'lab', 'later', 'leaving', 'library', 'list', 'located', 'location', 'love', 'made', 'many', 'marry', 'me', 'mechanical', 'mode', 'more', 'much', 'my', 'name', 'nice', 'no', 'number', 'of', 'offer', 'offered', 'ok', 'okay', 'okie', 'okk', 'on', 'open', 'operation', 'per', 'phone', 'please', 'provide', 'reach', 'route', 'saturday', 'scholarship', 'se', 'see', 'semester', 'should', 'shut', 'something', 'sport', 'staff', 'stupid', 'taking', 'talk', 'te', 'telephone', 'tell', 'thank', 'thanks', 'the', 'there', 'thing', 'this', 'time', 'timing', 'to', 'transportation', 'travelling', 'tyyl', 'u', 'university', 'uod', 'up', 'use', 'well', 'what', 'whats', 'whatsup', 'when', 'where', 'wheres', 'who', 'whom', 'why', 'will', 'work', 'working', 'ya', 'year', 'you', 'your']\n"
     ]
    }
   ],
   "source": [
    "for intent in intents['intents']:\n",
    "    for pattern in intent['patterns']:\n",
    "        w = nltk.word_tokenize(pattern)\n",
    "        words.extend(w)\n",
    "        \n",
    "        documents.append((w,intent['tag']))\n",
    "        \n",
    "        if intent['tag'] not in classes:\n",
    "            classes.append(intent['tag'])\n",
    "            \n",
    "words = [lemmatizer.lemmatize(w.lower()) for w in words if w not in string.punctuation]\n",
    "words = sorted(list(set(words)))\n",
    "\n",
    "classes = sorted(list(set(classes)))\n",
    "\n",
    "print(len(documents), 'documents', documents)\n",
    "\n",
    "print(len(classes), 'classes', classes)\n",
    "\n",
    "print(len(words), 'unique lemmatized words', words)\n",
    "\n",
    "pickle.dump(words, open('words.pkl', 'wb'))\n",
    "pickle.dump(classes, open('classes.pkl', 'wb'))\n"
   ]
  },
  {
   "cell_type": "markdown",
   "id": "37a15b36",
   "metadata": {},
   "source": [
    "## Training data initialization"
   ]
  },
  {
   "cell_type": "code",
   "execution_count": 83,
   "id": "3c09a850",
   "metadata": {},
   "outputs": [
    {
     "name": "stdout",
     "output_type": "stream",
     "text": [
      "['please', 'provide', 'sport', 'and', 'game', 'information']\n",
      "[0, 0, 0, 0, 1, 0, 0, 0, 0, 0, 0, 0, 0, 0, 0, 0, 0, 0, 0, 0, 0, 0, 0, 0, 0, 0, 0, 0, 0, 0, 0, 0, 0, 0, 0, 0, 0, 0, 0, 0, 0, 0, 0, 0, 0, 0, 0, 0, 0, 0, 0, 0, 0, 0, 0, 0, 0, 0, 0, 0, 1, 0, 0, 0, 0, 0, 0, 0, 0, 0, 0, 0, 0, 0, 0, 0, 0, 0, 0, 0, 0, 1, 0, 0, 0, 0, 0, 0, 0, 0, 0, 0, 0, 0, 0, 0, 0, 0, 0, 0, 0, 0, 0, 0, 0, 0, 0, 0, 0, 0, 0, 0, 0, 0, 0, 0, 0, 0, 0, 0, 1, 1, 0, 0, 0, 0, 0, 0, 0, 0, 0, 0, 1, 0, 0, 0, 0, 0, 0, 0, 0, 0, 0, 0, 0, 0, 0, 0, 0, 0, 0, 0, 0, 0, 0, 0, 0, 0, 0, 0, 0, 0, 0, 0, 0, 0, 0, 0, 0, 0, 0, 0, 0, 0]\n",
      "[0, 0, 0, 0, 0, 0, 0, 0, 0, 0, 0, 0, 0, 0, 0, 1, 0, 0, 0]\n",
      "Training data created\n",
      "438\n",
      "174\n",
      "438\n",
      "19\n",
      "66\n",
      "66\n"
     ]
    },
    {
     "name": "stderr",
     "output_type": "stream",
     "text": [
      "<ipython-input-83-f7c3237f637b>:21: VisibleDeprecationWarning: Creating an ndarray from ragged nested sequences (which is a list-or-tuple of lists-or-tuples-or ndarrays with different lengths or shapes) is deprecated. If you meant to do this, you must specify 'dtype=object' when creating the ndarray.\n",
      "  training = np.array(training)\n"
     ]
    }
   ],
   "source": [
    "training = []\n",
    "output_empty= [0] * len(classes)\n",
    "for doc in documents:\n",
    "    bag = []\n",
    "    pattern_words = doc[0]\n",
    "    pattern_words = [lemmatizer.lemmatize(word.lower()) for word in pattern_words]\n",
    "    \n",
    "    for w in words:\n",
    "        bag.append(1) if w in pattern_words else bag.append(0)\n",
    "     \n",
    "    output_row = list(output_empty)\n",
    "    output_row[classes.index(doc[1])] = 1\n",
    "    \n",
    "    training.append([bag, output_row])\n",
    "    \n",
    "print(pattern_words)\n",
    "print(bag)\n",
    "print(output_row)\n",
    "\n",
    "random.shuffle(training)\n",
    "training = np.array(training)\n",
    "\n",
    "#print(training)\n",
    "#create train and test lists. X - patterns, Y - intents\n",
    "x = list(training[:,0])\n",
    "y = list(training[:,1])\n",
    "x_train, x_test, y_train, y_test = train_test_split(x, y, test_size = 0.15, random_state=5)\n",
    "print(\"Training data created\")\n",
    "print(len(x))\n",
    "print(len(x[0]))\n",
    "print(len(y))\n",
    "print(len(y[0]))\n",
    "print(len(y_test))\n",
    "print(len(x_test))\n",
    "\n"
   ]
  },
  {
   "cell_type": "code",
   "execution_count": 86,
   "id": "b1d2cd9a",
   "metadata": {},
   "outputs": [
    {
     "name": "stdout",
     "output_type": "stream",
     "text": [
      "[0, 0, 0, 0, 1, 0, 0, 0, 0, 0, 0, 0, 0, 0, 0, 0, 0, 0, 0, 0, 0, 0, 0, 0, 0, 0, 0, 0, 0, 0, 0, 0, 0, 0, 0, 0, 0, 0, 0, 0, 0, 0, 0, 0, 0, 0, 0, 0, 0, 0, 0, 0, 0, 0, 0, 0, 0, 0, 0, 0, 1, 0, 0, 0, 0, 0, 0, 0, 0, 0, 0, 0, 0, 0, 0, 0, 0, 0, 0, 0, 0, 1, 0, 0, 0, 0, 0, 0, 0, 0, 0, 0, 0, 0, 0, 0, 0, 0, 0, 0, 0, 0, 0, 0, 0, 0, 0, 0, 0, 0, 0, 0, 0, 0, 0, 0, 0, 0, 0, 0, 1, 1, 0, 0, 0, 0, 0, 0, 0, 0, 0, 0, 1, 0, 0, 0, 0, 0, 0, 0, 0, 0, 0, 0, 0, 0, 0, 0, 0, 0, 0, 0, 0, 0, 0, 0, 0, 0, 0, 0, 0, 0, 0, 0, 0, 0, 0, 0, 0, 0, 0, 0, 0, 0]\n"
     ]
    }
   ],
   "source": [
    "print(bag)"
   ]
  },
  {
   "cell_type": "markdown",
   "id": "3d8c9091",
   "metadata": {},
   "source": [
    "## Creating a sequential model"
   ]
  },
  {
   "cell_type": "code",
   "execution_count": 84,
   "id": "56f00cee",
   "metadata": {},
   "outputs": [
    {
     "name": "stdout",
     "output_type": "stream",
     "text": [
      "Model: \"sequential_21\"\n",
      "_________________________________________________________________\n",
      " Layer (type)                Output Shape              Param #   \n",
      "=================================================================\n",
      " dense_48 (Dense)            (None, 512)               89600     \n",
      "                                                                 \n",
      " dropout_25 (Dropout)        (None, 512)               0         \n",
      "                                                                 \n",
      " dense_49 (Dense)            (None, 256)               131328    \n",
      "                                                                 \n",
      " dropout_26 (Dropout)        (None, 256)               0         \n",
      "                                                                 \n",
      " dense_50 (Dense)            (None, 19)                4883      \n",
      "                                                                 \n",
      "=================================================================\n",
      "Total params: 225,811\n",
      "Trainable params: 225,811\n",
      "Non-trainable params: 0\n",
      "_________________________________________________________________\n",
      "None\n"
     ]
    }
   ],
   "source": [
    "model = Sequential()\n",
    "model.add(Dense(512, input_shape=(len(x[0]),), activation='relu'))\n",
    "model.add(Dropout(0.5))\n",
    "model.add(Dense(256, activation='relu'))\n",
    "model.add(Dropout(0.5))\n",
    "model.add(Dense(len(y[0]), activation='softmax'))\n",
    "\n",
    "print(model.summary())\n",
    "\n",
    "adam = Adam(learning_rate = 0.001)\n",
    "model.compile(loss='categorical_crossentropy', optimizer=adam, metrics=['accuracy'])\n"
   ]
  },
  {
   "cell_type": "code",
   "execution_count": 81,
   "id": "185cada3",
   "metadata": {},
   "outputs": [
    {
     "name": "stdout",
     "output_type": "stream",
     "text": [
      "Epoch 1/80\n",
      "24/24 [==============================] - 0s 8ms/step - loss: 2.9009 - accuracy: 0.1344 - val_loss: 2.8069 - val_accuracy: 0.3030\n",
      "Epoch 2/80\n",
      "24/24 [==============================] - 0s 3ms/step - loss: 2.6985 - accuracy: 0.2473 - val_loss: 2.6368 - val_accuracy: 0.2727\n",
      "Epoch 3/80\n",
      "24/24 [==============================] - 0s 3ms/step - loss: 2.4253 - accuracy: 0.3387 - val_loss: 2.4023 - val_accuracy: 0.3636\n",
      "Epoch 4/80\n",
      "24/24 [==============================] - 0s 3ms/step - loss: 2.0685 - accuracy: 0.4570 - val_loss: 2.0770 - val_accuracy: 0.5152\n",
      "Epoch 5/80\n",
      "24/24 [==============================] - 0s 3ms/step - loss: 1.7240 - accuracy: 0.6129 - val_loss: 1.7087 - val_accuracy: 0.6364\n",
      "Epoch 6/80\n",
      "24/24 [==============================] - 0s 3ms/step - loss: 1.3161 - accuracy: 0.7796 - val_loss: 1.4049 - val_accuracy: 0.7273\n",
      "Epoch 7/80\n",
      "24/24 [==============================] - 0s 3ms/step - loss: 0.9687 - accuracy: 0.8710 - val_loss: 1.1739 - val_accuracy: 0.7879\n",
      "Epoch 8/80\n",
      "24/24 [==============================] - 0s 3ms/step - loss: 0.7884 - accuracy: 0.9086 - val_loss: 0.9650 - val_accuracy: 0.8182\n",
      "Epoch 9/80\n",
      "24/24 [==============================] - 0s 3ms/step - loss: 0.6131 - accuracy: 0.8817 - val_loss: 0.8350 - val_accuracy: 0.8485\n",
      "Epoch 10/80\n",
      "24/24 [==============================] - 0s 3ms/step - loss: 0.4591 - accuracy: 0.9355 - val_loss: 0.7631 - val_accuracy: 0.8485\n",
      "Epoch 11/80\n",
      "24/24 [==============================] - 0s 3ms/step - loss: 0.3636 - accuracy: 0.9516 - val_loss: 0.7024 - val_accuracy: 0.8485\n",
      "Epoch 12/80\n",
      "24/24 [==============================] - 0s 3ms/step - loss: 0.2692 - accuracy: 0.9839 - val_loss: 0.6555 - val_accuracy: 0.7879\n",
      "Epoch 13/80\n",
      "24/24 [==============================] - 0s 3ms/step - loss: 0.2002 - accuracy: 1.0000 - val_loss: 0.6118 - val_accuracy: 0.8485\n",
      "Epoch 14/80\n",
      "24/24 [==============================] - 0s 3ms/step - loss: 0.1590 - accuracy: 0.9892 - val_loss: 0.5870 - val_accuracy: 0.7879\n",
      "Epoch 15/80\n",
      "24/24 [==============================] - 0s 3ms/step - loss: 0.1249 - accuracy: 0.9946 - val_loss: 0.6112 - val_accuracy: 0.8182\n",
      "Epoch 16/80\n",
      "24/24 [==============================] - 0s 3ms/step - loss: 0.1213 - accuracy: 0.9946 - val_loss: 0.5361 - val_accuracy: 0.8182\n",
      "Epoch 17/80\n",
      "24/24 [==============================] - 0s 3ms/step - loss: 0.1048 - accuracy: 0.9839 - val_loss: 0.5181 - val_accuracy: 0.8485\n",
      "Epoch 18/80\n",
      "24/24 [==============================] - 0s 4ms/step - loss: 0.0626 - accuracy: 1.0000 - val_loss: 0.5076 - val_accuracy: 0.8485\n",
      "Epoch 19/80\n",
      "24/24 [==============================] - 0s 3ms/step - loss: 0.0522 - accuracy: 1.0000 - val_loss: 0.5177 - val_accuracy: 0.8788\n",
      "Epoch 20/80\n",
      "24/24 [==============================] - 0s 3ms/step - loss: 0.0556 - accuracy: 1.0000 - val_loss: 0.5337 - val_accuracy: 0.8485\n",
      "Epoch 21/80\n",
      "24/24 [==============================] - 0s 3ms/step - loss: 0.0474 - accuracy: 1.0000 - val_loss: 0.5000 - val_accuracy: 0.8485\n",
      "Epoch 22/80\n",
      "24/24 [==============================] - 0s 3ms/step - loss: 0.0589 - accuracy: 1.0000 - val_loss: 0.5011 - val_accuracy: 0.8182\n",
      "Epoch 23/80\n",
      "24/24 [==============================] - 0s 3ms/step - loss: 0.0412 - accuracy: 0.9892 - val_loss: 0.4951 - val_accuracy: 0.8182\n",
      "Epoch 24/80\n",
      "24/24 [==============================] - 0s 3ms/step - loss: 0.0341 - accuracy: 1.0000 - val_loss: 0.4778 - val_accuracy: 0.8182\n",
      "Epoch 25/80\n",
      "24/24 [==============================] - 0s 3ms/step - loss: 0.0285 - accuracy: 1.0000 - val_loss: 0.5060 - val_accuracy: 0.8182\n",
      "Epoch 26/80\n",
      "24/24 [==============================] - 0s 3ms/step - loss: 0.0290 - accuracy: 1.0000 - val_loss: 0.4761 - val_accuracy: 0.8182\n",
      "Epoch 27/80\n",
      "24/24 [==============================] - 0s 3ms/step - loss: 0.0278 - accuracy: 1.0000 - val_loss: 0.4361 - val_accuracy: 0.8788\n",
      "Epoch 28/80\n",
      "24/24 [==============================] - 0s 3ms/step - loss: 0.0227 - accuracy: 1.0000 - val_loss: 0.4361 - val_accuracy: 0.8485\n",
      "Epoch 29/80\n",
      "24/24 [==============================] - 0s 3ms/step - loss: 0.0183 - accuracy: 1.0000 - val_loss: 0.4386 - val_accuracy: 0.8485\n",
      "Epoch 30/80\n",
      "24/24 [==============================] - 0s 3ms/step - loss: 0.0160 - accuracy: 1.0000 - val_loss: 0.4390 - val_accuracy: 0.8485\n",
      "Epoch 31/80\n",
      "24/24 [==============================] - 0s 3ms/step - loss: 0.0160 - accuracy: 1.0000 - val_loss: 0.4579 - val_accuracy: 0.8485\n",
      "Epoch 32/80\n",
      "24/24 [==============================] - 0s 3ms/step - loss: 0.0200 - accuracy: 1.0000 - val_loss: 0.4471 - val_accuracy: 0.9091\n",
      "Epoch 33/80\n",
      "24/24 [==============================] - 0s 3ms/step - loss: 0.0137 - accuracy: 1.0000 - val_loss: 0.4334 - val_accuracy: 0.8788\n",
      "Epoch 34/80\n",
      "24/24 [==============================] - 0s 3ms/step - loss: 0.0138 - accuracy: 1.0000 - val_loss: 0.4279 - val_accuracy: 0.8485\n",
      "Epoch 35/80\n",
      "24/24 [==============================] - 0s 3ms/step - loss: 0.0136 - accuracy: 1.0000 - val_loss: 0.4423 - val_accuracy: 0.9091\n",
      "Epoch 36/80\n",
      "24/24 [==============================] - 0s 3ms/step - loss: 0.0170 - accuracy: 0.9946 - val_loss: 0.4452 - val_accuracy: 0.8485\n",
      "Epoch 37/80\n",
      "24/24 [==============================] - 0s 3ms/step - loss: 0.0102 - accuracy: 1.0000 - val_loss: 0.4336 - val_accuracy: 0.8485\n",
      "Epoch 38/80\n",
      "24/24 [==============================] - 0s 3ms/step - loss: 0.0093 - accuracy: 1.0000 - val_loss: 0.4263 - val_accuracy: 0.8788\n",
      "Epoch 39/80\n",
      "24/24 [==============================] - 0s 3ms/step - loss: 0.0075 - accuracy: 1.0000 - val_loss: 0.4355 - val_accuracy: 0.8788\n",
      "Epoch 40/80\n",
      "24/24 [==============================] - 0s 3ms/step - loss: 0.0078 - accuracy: 1.0000 - val_loss: 0.4488 - val_accuracy: 0.8485\n",
      "Epoch 41/80\n",
      "24/24 [==============================] - 0s 3ms/step - loss: 0.0102 - accuracy: 1.0000 - val_loss: 0.4652 - val_accuracy: 0.8485\n",
      "Epoch 42/80\n",
      "24/24 [==============================] - 0s 3ms/step - loss: 0.0094 - accuracy: 1.0000 - val_loss: 0.4561 - val_accuracy: 0.8788\n",
      "Epoch 43/80\n",
      "24/24 [==============================] - 0s 3ms/step - loss: 0.0081 - accuracy: 1.0000 - val_loss: 0.4637 - val_accuracy: 0.8788\n",
      "Epoch 44/80\n",
      "24/24 [==============================] - 0s 3ms/step - loss: 0.0063 - accuracy: 1.0000 - val_loss: 0.4612 - val_accuracy: 0.9091\n",
      "Epoch 45/80\n",
      "24/24 [==============================] - 0s 3ms/step - loss: 0.0088 - accuracy: 1.0000 - val_loss: 0.4696 - val_accuracy: 0.8485\n",
      "Epoch 46/80\n",
      "24/24 [==============================] - 0s 3ms/step - loss: 0.0074 - accuracy: 1.0000 - val_loss: 0.4592 - val_accuracy: 0.8485\n",
      "Epoch 47/80\n",
      "24/24 [==============================] - 0s 3ms/step - loss: 0.0077 - accuracy: 1.0000 - val_loss: 0.4503 - val_accuracy: 0.8485\n",
      "Epoch 48/80\n",
      "24/24 [==============================] - 0s 3ms/step - loss: 0.0086 - accuracy: 1.0000 - val_loss: 0.4575 - val_accuracy: 0.8182\n",
      "Epoch 49/80\n",
      "24/24 [==============================] - 0s 3ms/step - loss: 0.0171 - accuracy: 0.9946 - val_loss: 0.4597 - val_accuracy: 0.8485\n",
      "Epoch 50/80\n",
      "24/24 [==============================] - 0s 3ms/step - loss: 0.0088 - accuracy: 1.0000 - val_loss: 0.4309 - val_accuracy: 0.9091\n",
      "Epoch 51/80\n",
      "24/24 [==============================] - 0s 3ms/step - loss: 0.0031 - accuracy: 1.0000 - val_loss: 0.4264 - val_accuracy: 0.9091\n",
      "Epoch 52/80\n",
      "24/24 [==============================] - 0s 3ms/step - loss: 0.0035 - accuracy: 1.0000 - val_loss: 0.4361 - val_accuracy: 0.9091\n",
      "Epoch 53/80\n",
      "24/24 [==============================] - 0s 3ms/step - loss: 0.0040 - accuracy: 1.0000 - val_loss: 0.4393 - val_accuracy: 0.9091\n",
      "Epoch 54/80\n",
      "24/24 [==============================] - 0s 3ms/step - loss: 0.0056 - accuracy: 1.0000 - val_loss: 0.4394 - val_accuracy: 0.9091\n",
      "Epoch 55/80\n",
      "24/24 [==============================] - 0s 3ms/step - loss: 0.0066 - accuracy: 1.0000 - val_loss: 0.4502 - val_accuracy: 0.8485\n",
      "Epoch 56/80\n",
      "24/24 [==============================] - 0s 3ms/step - loss: 0.0051 - accuracy: 1.0000 - val_loss: 0.4519 - val_accuracy: 0.8485\n",
      "Epoch 57/80\n",
      "24/24 [==============================] - 0s 3ms/step - loss: 0.0037 - accuracy: 1.0000 - val_loss: 0.4592 - val_accuracy: 0.8788\n",
      "Epoch 58/80\n",
      "24/24 [==============================] - 0s 3ms/step - loss: 0.0037 - accuracy: 1.0000 - val_loss: 0.4636 - val_accuracy: 0.8485\n",
      "Epoch 59/80\n"
     ]
    },
    {
     "name": "stdout",
     "output_type": "stream",
     "text": [
      "24/24 [==============================] - 0s 3ms/step - loss: 0.0065 - accuracy: 1.0000 - val_loss: 0.4745 - val_accuracy: 0.8485\n",
      "Epoch 60/80\n",
      "24/24 [==============================] - 0s 4ms/step - loss: 0.0048 - accuracy: 1.0000 - val_loss: 0.4849 - val_accuracy: 0.8182\n",
      "Epoch 61/80\n",
      "24/24 [==============================] - 0s 3ms/step - loss: 0.0099 - accuracy: 1.0000 - val_loss: 0.4600 - val_accuracy: 0.8485\n",
      "Epoch 62/80\n",
      "24/24 [==============================] - 0s 3ms/step - loss: 0.0039 - accuracy: 1.0000 - val_loss: 0.4599 - val_accuracy: 0.8182\n",
      "Epoch 63/80\n",
      "24/24 [==============================] - 0s 3ms/step - loss: 0.0025 - accuracy: 1.0000 - val_loss: 0.4569 - val_accuracy: 0.8788\n",
      "Epoch 64/80\n",
      "24/24 [==============================] - 0s 3ms/step - loss: 0.0032 - accuracy: 1.0000 - val_loss: 0.4518 - val_accuracy: 0.8788\n",
      "Epoch 65/80\n",
      "24/24 [==============================] - 0s 3ms/step - loss: 0.0034 - accuracy: 1.0000 - val_loss: 0.4427 - val_accuracy: 0.8788\n",
      "Epoch 66/80\n",
      "24/24 [==============================] - 0s 3ms/step - loss: 0.0043 - accuracy: 1.0000 - val_loss: 0.4361 - val_accuracy: 0.9091\n",
      "Epoch 67/80\n",
      "24/24 [==============================] - 0s 3ms/step - loss: 0.0085 - accuracy: 0.9946 - val_loss: 0.4770 - val_accuracy: 0.8485\n",
      "Epoch 68/80\n",
      "24/24 [==============================] - 0s 3ms/step - loss: 0.0064 - accuracy: 1.0000 - val_loss: 0.4391 - val_accuracy: 0.9091\n",
      "Epoch 69/80\n",
      "24/24 [==============================] - 0s 3ms/step - loss: 0.0034 - accuracy: 1.0000 - val_loss: 0.4211 - val_accuracy: 0.9091\n",
      "Epoch 70/80\n",
      "24/24 [==============================] - 0s 3ms/step - loss: 0.0025 - accuracy: 1.0000 - val_loss: 0.4247 - val_accuracy: 0.9091\n",
      "Epoch 71/80\n",
      "24/24 [==============================] - 0s 3ms/step - loss: 0.0031 - accuracy: 1.0000 - val_loss: 0.4296 - val_accuracy: 0.9091\n",
      "Epoch 72/80\n",
      "24/24 [==============================] - 0s 3ms/step - loss: 0.0024 - accuracy: 1.0000 - val_loss: 0.4269 - val_accuracy: 0.9091\n",
      "Epoch 73/80\n",
      "24/24 [==============================] - 0s 3ms/step - loss: 0.0018 - accuracy: 1.0000 - val_loss: 0.4260 - val_accuracy: 0.9091\n",
      "Epoch 74/80\n",
      "24/24 [==============================] - 0s 3ms/step - loss: 0.0030 - accuracy: 1.0000 - val_loss: 0.4391 - val_accuracy: 0.9091\n",
      "Epoch 75/80\n",
      "24/24 [==============================] - 0s 3ms/step - loss: 0.0026 - accuracy: 1.0000 - val_loss: 0.4265 - val_accuracy: 0.9091\n",
      "Epoch 76/80\n",
      "24/24 [==============================] - 0s 3ms/step - loss: 0.0016 - accuracy: 1.0000 - val_loss: 0.4282 - val_accuracy: 0.9091\n",
      "Epoch 77/80\n",
      "24/24 [==============================] - 0s 3ms/step - loss: 0.0017 - accuracy: 1.0000 - val_loss: 0.4239 - val_accuracy: 0.9091\n",
      "Epoch 78/80\n",
      "24/24 [==============================] - 0s 3ms/step - loss: 0.0026 - accuracy: 1.0000 - val_loss: 0.4294 - val_accuracy: 0.9091\n",
      "Epoch 79/80\n",
      "24/24 [==============================] - 0s 3ms/step - loss: 0.0016 - accuracy: 1.0000 - val_loss: 0.4295 - val_accuracy: 0.9091\n",
      "Epoch 80/80\n",
      "24/24 [==============================] - 0s 3ms/step - loss: 0.0018 - accuracy: 1.0000 - val_loss: 0.4248 - val_accuracy: 0.9091\n",
      "model created\n"
     ]
    }
   ],
   "source": [
    "#fitting and saving the model\n",
    "hist = model.fit(x_train, y_train, epochs=80, validation_data=(x_test, y_test), batch_size=8, verbose=1)\n",
    "\n",
    "model.save('chatbot_model.h5', hist)\n",
    "\n",
    "print(\"model created\")\n",
    "\n",
    "y_predict=model.predict(x)\n",
    "rmse = (np.sqrt(mean_squared_error(y, y_predict)))"
   ]
  },
  {
   "cell_type": "markdown",
   "id": "a4606196",
   "metadata": {},
   "source": [
    "## Evaluating The Model"
   ]
  },
  {
   "cell_type": "code",
   "execution_count": 70,
   "id": "f7e997dc",
   "metadata": {},
   "outputs": [
    {
     "name": "stdout",
     "output_type": "stream",
     "text": [
      "Performance of training data\n",
      "RMSE is 0.037544482502606266\n",
      "\n",
      "\n"
     ]
    },
    {
     "data": {
      "image/png": "[encoded data removed]",
      "text/plain": [
       "<Figure size 432x288 with 1 Axes>"
      ]
     },
     "metadata": {
      "needs_background": "light"
     },
     "output_type": "display_data"
    },
    {
     "data": {
      "image/png": "[encoded data removed]",
      "text/plain": [
       "<Figure size 432x288 with 1 Axes>"
      ]
     },
     "metadata": {
      "needs_background": "light"
     },
     "output_type": "display_data"
    },
    {
     "data": {
      "image/png": "[encoded data removed]",
      "text/plain": [
       "<Figure size 432x288 with 1 Axes>"
      ]
     },
     "metadata": {
      "needs_background": "light"
     },
     "output_type": "display_data"
    }
   ],
   "source": [
    "print(\"Performance of training data\")\n",
    "print(\"RMSE is {}\".format(rmse))\n",
    "print(\"\\n\")\n",
    "\n",
    "loss = hist.history['loss']\n",
    "#val_loss = hist.history['val_loss']\n",
    "epochs = range(1, len(loss) + 1)\n",
    "plt.plot(epochs, loss, 'y', label='Training loss')\n",
    "#plt.plot(epochs, val_loss, 'r', label=\"Validation Loss\")\n",
    "plt.title(\"Training Loss\")\n",
    "plt.xlabel(\"Epochs\")\n",
    "plt.ylabel(\"Loss\")\n",
    "plt.legend()\n",
    "plt.show()\n",
    "\n",
    "acc = hist.history[\"accuracy\"]\n",
    "#val_acc = hist.history[\"val_accuracy\"]\n",
    "plt.plot(epochs, acc, \"y\", label=\"Training Acc\")\n",
    "#plt.plot(epochs, val_acc, 'r', label = 'Validation Acc')\n",
    "plt.title(\"Training Accuracy\")\n",
    "plt.xlabel(\"Epochs\")\n",
    "plt.ylabel(\"Loss\")\n",
    "plt.legend()\n",
    "plt.show()\n",
    "\n",
    "acc = hist.history['accuracy']\n",
    "#val_acc = hist.history['val_accuracy']\n",
    "plt.plot(epochs, acc, 'y', label=\"Validation Acc\")\n",
    "plt.title(\"Validation Accuracy\")\n",
    "plt.xlabel(\"Epochs\")\n",
    "plt.ylabel(\"Accuracy\")\n",
    "plt.legend()\n",
    "plt.show()"
   ]
  },
  {
   "cell_type": "markdown",
   "id": "8e6f188c",
   "metadata": {},
   "source": [
    "# LSTM Model"
   ]
  },
  {
   "cell_type": "code",
   "execution_count": 71,
   "id": "c1992d3b",
   "metadata": {},
   "outputs": [],
   "source": [
    "# Defining Hyperparameters \n",
    "\n",
    "vocab_size = 6000     # Vocabulary size: the number of unique words\n",
    "embedding_dim = 20    # Number of dimensions in embedding space fixed as 20\n",
    "max_length = 174      # Maximum Length Sequence set as 174\n",
    "trunc_type='post'     # Truncation type post: 0's will be added after numeric sequences\n",
    "padding_type='post'   # Padding Type post: 0's will be added after numeric sequences\n",
    "oov_tok = \"<OOV>\"     # token for Out of vocabulary words  "
   ]
  },
  {
   "cell_type": "code",
   "execution_count": 72,
   "id": "7275c545",
   "metadata": {},
   "outputs": [
    {
     "name": "stdout",
     "output_type": "stream",
     "text": [
      "Model: \"sequential_18\"\n",
      "_________________________________________________________________\n",
      " Layer (type)                Output Shape              Param #   \n",
      "=================================================================\n",
      " embedding_16 (Embedding)    (None, 174, 20)           120000    \n",
      "                                                                 \n",
      " lstm_16 (LSTM)              (None, 32)                6784      \n",
      "                                                                 \n",
      " dense_41 (Dense)            (None, 256)               8448      \n",
      "                                                                 \n",
      " dropout_21 (Dropout)        (None, 256)               0         \n",
      "                                                                 \n",
      " dense_42 (Dense)            (None, 19)                4883      \n",
      "                                                                 \n",
      "=================================================================\n",
      "Total params: 140,115\n",
      "Trainable params: 140,115\n",
      "Non-trainable params: 0\n",
      "_________________________________________________________________\n"
     ]
    }
   ],
   "source": [
    "# Defining the LSTM model\n",
    "\n",
    "lstm_model = tf.keras.Sequential([\n",
    "    tf.keras.layers.Embedding(vocab_size, embedding_dim, input_length = max_length),    #Embedding Layer \n",
    "    tf.keras.layers.LSTM(32),   #LSTM Layer with 32 output channels \n",
    "    tf.keras.layers.Dense(256, activation='relu'),\n",
    "    tf.keras.layers.Dropout(0.5), \n",
    "    tf.keras.layers.Dense(len(y[0]), activation='softmax')             #Final output layer activated by softmax function\n",
    "])\n",
    "\n",
    "lstm_model.compile(loss='categorical_crossentropy',optimizer='adam',metrics=['accuracy'])  #calculating loss and optimizing\n",
    "lstm_model.summary()\n"
   ]
  },
  {
   "cell_type": "code",
   "execution_count": 73,
   "id": "76c9d39d",
   "metadata": {},
   "outputs": [
    {
     "name": "stdout",
     "output_type": "stream",
     "text": [
      "Epoch 1/80\n",
      "24/24 [==============================] - 4s 76ms/step - loss: 2.9420 - accuracy: 0.0591 - val_loss: 2.9396 - val_accuracy: 0.0606\n",
      "Epoch 2/80\n",
      "24/24 [==============================] - 1s 58ms/step - loss: 2.9226 - accuracy: 0.1183 - val_loss: 2.9270 - val_accuracy: 0.0606\n",
      "Epoch 3/80\n",
      "24/24 [==============================] - 1s 58ms/step - loss: 2.8799 - accuracy: 0.1075 - val_loss: 2.9327 - val_accuracy: 0.0606\n",
      "Epoch 4/80\n",
      "24/24 [==============================] - 1s 57ms/step - loss: 2.8886 - accuracy: 0.1183 - val_loss: 2.9317 - val_accuracy: 0.0606\n",
      "Epoch 5/80\n",
      "24/24 [==============================] - 1s 56ms/step - loss: 2.8619 - accuracy: 0.1183 - val_loss: 2.9474 - val_accuracy: 0.0606\n",
      "Epoch 6/80\n",
      "24/24 [==============================] - 1s 59ms/step - loss: 2.8769 - accuracy: 0.1237 - val_loss: 2.9414 - val_accuracy: 0.0606\n",
      "Epoch 7/80\n",
      "24/24 [==============================] - 1s 56ms/step - loss: 2.8557 - accuracy: 0.1183 - val_loss: 2.9484 - val_accuracy: 0.0606\n",
      "Epoch 8/80\n",
      "24/24 [==============================] - 1s 57ms/step - loss: 2.8675 - accuracy: 0.1183 - val_loss: 2.9469 - val_accuracy: 0.0606\n",
      "Epoch 9/80\n",
      "24/24 [==============================] - 1s 57ms/step - loss: 2.8518 - accuracy: 0.1183 - val_loss: 2.9495 - val_accuracy: 0.0606\n",
      "Epoch 10/80\n",
      "24/24 [==============================] - 1s 59ms/step - loss: 2.8456 - accuracy: 0.1183 - val_loss: 2.9489 - val_accuracy: 0.0606\n",
      "Epoch 11/80\n",
      "24/24 [==============================] - 1s 59ms/step - loss: 2.8217 - accuracy: 0.1183 - val_loss: 2.9514 - val_accuracy: 0.0606\n",
      "Epoch 12/80\n",
      "24/24 [==============================] - 1s 57ms/step - loss: 2.8078 - accuracy: 0.1237 - val_loss: 2.9532 - val_accuracy: 0.0909\n",
      "Epoch 13/80\n",
      "24/24 [==============================] - 1s 59ms/step - loss: 2.7658 - accuracy: 0.1398 - val_loss: 2.9276 - val_accuracy: 0.0909\n",
      "Epoch 14/80\n",
      "24/24 [==============================] - 1s 59ms/step - loss: 2.7578 - accuracy: 0.1398 - val_loss: 2.8822 - val_accuracy: 0.0909\n",
      "Epoch 15/80\n",
      "24/24 [==============================] - 1s 60ms/step - loss: 2.6966 - accuracy: 0.1559 - val_loss: 2.9605 - val_accuracy: 0.0606\n",
      "Epoch 16/80\n",
      "24/24 [==============================] - 1s 58ms/step - loss: 2.6628 - accuracy: 0.1774 - val_loss: 2.8260 - val_accuracy: 0.1212\n",
      "Epoch 17/80\n",
      "24/24 [==============================] - 1s 59ms/step - loss: 2.6385 - accuracy: 0.2097 - val_loss: 2.7996 - val_accuracy: 0.1212\n",
      "Epoch 18/80\n",
      "24/24 [==============================] - 1s 60ms/step - loss: 2.6211 - accuracy: 0.2043 - val_loss: 2.7688 - val_accuracy: 0.0909\n",
      "Epoch 19/80\n",
      "24/24 [==============================] - 1s 58ms/step - loss: 2.5236 - accuracy: 0.2151 - val_loss: 2.7911 - val_accuracy: 0.0909\n",
      "Epoch 20/80\n",
      "24/24 [==============================] - 1s 58ms/step - loss: 2.5555 - accuracy: 0.1828 - val_loss: 2.8101 - val_accuracy: 0.0909\n",
      "Epoch 21/80\n",
      "24/24 [==============================] - 1s 57ms/step - loss: 2.5654 - accuracy: 0.1935 - val_loss: 2.8186 - val_accuracy: 0.1212\n",
      "Epoch 22/80\n",
      "24/24 [==============================] - 2s 64ms/step - loss: 2.4771 - accuracy: 0.1828 - val_loss: 2.7723 - val_accuracy: 0.0909\n",
      "Epoch 23/80\n",
      "24/24 [==============================] - 1s 62ms/step - loss: 2.5199 - accuracy: 0.1828 - val_loss: 2.8223 - val_accuracy: 0.1212\n",
      "Epoch 24/80\n",
      "24/24 [==============================] - 2s 63ms/step - loss: 2.4663 - accuracy: 0.2043 - val_loss: 2.7934 - val_accuracy: 0.0909\n",
      "Epoch 25/80\n",
      "24/24 [==============================] - 2s 83ms/step - loss: 2.4433 - accuracy: 0.2151 - val_loss: 2.8182 - val_accuracy: 0.1212\n",
      "Epoch 26/80\n",
      "24/24 [==============================] - 2s 75ms/step - loss: 2.4240 - accuracy: 0.1667 - val_loss: 2.8333 - val_accuracy: 0.1212\n",
      "Epoch 27/80\n",
      "24/24 [==============================] - 2s 77ms/step - loss: 2.4221 - accuracy: 0.1935 - val_loss: 2.8239 - val_accuracy: 0.1212\n",
      "Epoch 28/80\n",
      "24/24 [==============================] - 2s 73ms/step - loss: 2.4007 - accuracy: 0.2151 - val_loss: 2.8383 - val_accuracy: 0.1212\n",
      "Epoch 29/80\n",
      "24/24 [==============================] - 2s 73ms/step - loss: 2.4097 - accuracy: 0.2097 - val_loss: 2.8723 - val_accuracy: 0.1212\n",
      "Epoch 30/80\n",
      "24/24 [==============================] - 2s 70ms/step - loss: 2.3981 - accuracy: 0.2258 - val_loss: 2.8695 - val_accuracy: 0.1212\n",
      "Epoch 31/80\n",
      "24/24 [==============================] - 2s 69ms/step - loss: 2.3333 - accuracy: 0.2419 - val_loss: 2.8642 - val_accuracy: 0.1212\n",
      "Epoch 32/80\n",
      "24/24 [==============================] - 2s 67ms/step - loss: 2.3567 - accuracy: 0.2151 - val_loss: 2.8783 - val_accuracy: 0.0909\n",
      "Epoch 33/80\n",
      "24/24 [==============================] - 2s 66ms/step - loss: 2.3534 - accuracy: 0.2097 - val_loss: 2.8857 - val_accuracy: 0.0909\n",
      "Epoch 34/80\n",
      "24/24 [==============================] - 1s 58ms/step - loss: 2.3351 - accuracy: 0.2204 - val_loss: 2.9145 - val_accuracy: 0.1212\n",
      "Epoch 35/80\n",
      "24/24 [==============================] - 1s 57ms/step - loss: 2.3290 - accuracy: 0.2204 - val_loss: 2.9282 - val_accuracy: 0.1212\n",
      "Epoch 36/80\n",
      "24/24 [==============================] - 1s 57ms/step - loss: 2.3352 - accuracy: 0.2312 - val_loss: 2.9123 - val_accuracy: 0.1212\n",
      "Epoch 37/80\n",
      "24/24 [==============================] - 1s 60ms/step - loss: 2.3105 - accuracy: 0.2258 - val_loss: 2.9217 - val_accuracy: 0.1212\n",
      "Epoch 38/80\n",
      "24/24 [==============================] - 1s 60ms/step - loss: 2.3090 - accuracy: 0.2419 - val_loss: 2.9289 - val_accuracy: 0.1212\n",
      "Epoch 39/80\n",
      "24/24 [==============================] - 1s 59ms/step - loss: 2.2263 - accuracy: 0.2796 - val_loss: 2.9729 - val_accuracy: 0.1212\n",
      "Epoch 40/80\n",
      "24/24 [==============================] - 1s 61ms/step - loss: 2.2436 - accuracy: 0.2903 - val_loss: 2.9730 - val_accuracy: 0.1212\n",
      "Epoch 41/80\n",
      "24/24 [==============================] - 1s 61ms/step - loss: 2.2111 - accuracy: 0.2634 - val_loss: 2.9648 - val_accuracy: 0.1212\n",
      "Epoch 42/80\n",
      "24/24 [==============================] - 1s 59ms/step - loss: 2.2196 - accuracy: 0.2903 - val_loss: 3.0005 - val_accuracy: 0.1515\n",
      "Epoch 43/80\n",
      "24/24 [==============================] - 1s 60ms/step - loss: 2.1934 - accuracy: 0.2849 - val_loss: 2.9313 - val_accuracy: 0.1515\n",
      "Epoch 44/80\n",
      "24/24 [==============================] - 1s 60ms/step - loss: 2.1692 - accuracy: 0.3172 - val_loss: 2.9183 - val_accuracy: 0.1212\n",
      "Epoch 45/80\n",
      "24/24 [==============================] - 1s 59ms/step - loss: 2.1456 - accuracy: 0.2849 - val_loss: 2.8834 - val_accuracy: 0.1818\n",
      "Epoch 46/80\n",
      "24/24 [==============================] - 1s 62ms/step - loss: 2.0462 - accuracy: 0.3172 - val_loss: 2.9471 - val_accuracy: 0.1818\n",
      "Epoch 47/80\n",
      "24/24 [==============================] - 1s 60ms/step - loss: 2.1349 - accuracy: 0.2688 - val_loss: 3.0504 - val_accuracy: 0.1212\n",
      "Epoch 48/80\n",
      "24/24 [==============================] - 1s 61ms/step - loss: 2.0945 - accuracy: 0.3387 - val_loss: 3.0150 - val_accuracy: 0.1515\n",
      "Epoch 49/80\n",
      "24/24 [==============================] - 1s 60ms/step - loss: 2.1127 - accuracy: 0.3333 - val_loss: 3.0170 - val_accuracy: 0.1212\n",
      "Epoch 50/80\n",
      "24/24 [==============================] - 1s 61ms/step - loss: 2.1099 - accuracy: 0.3118 - val_loss: 3.0823 - val_accuracy: 0.1515\n",
      "Epoch 51/80\n",
      "24/24 [==============================] - 1s 59ms/step - loss: 2.0494 - accuracy: 0.3441 - val_loss: 3.0802 - val_accuracy: 0.1212\n",
      "Epoch 52/80\n",
      "24/24 [==============================] - 2s 64ms/step - loss: 2.1371 - accuracy: 0.3065 - val_loss: 3.0763 - val_accuracy: 0.1515\n",
      "Epoch 53/80\n",
      "24/24 [==============================] - 1s 60ms/step - loss: 2.0944 - accuracy: 0.3118 - val_loss: 3.0438 - val_accuracy: 0.1818\n",
      "Epoch 54/80\n",
      "24/24 [==============================] - 1s 61ms/step - loss: 2.0321 - accuracy: 0.3226 - val_loss: 2.9921 - val_accuracy: 0.1818\n",
      "Epoch 55/80\n",
      "24/24 [==============================] - 1s 61ms/step - loss: 1.9710 - accuracy: 0.3441 - val_loss: 3.0433 - val_accuracy: 0.1818\n",
      "Epoch 56/80\n",
      "24/24 [==============================] - 1s 62ms/step - loss: 2.0037 - accuracy: 0.3280 - val_loss: 3.1291 - val_accuracy: 0.1818\n",
      "Epoch 57/80\n",
      "24/24 [==============================] - 2s 63ms/step - loss: 2.0113 - accuracy: 0.3387 - val_loss: 3.0412 - val_accuracy: 0.1818\n",
      "Epoch 58/80\n"
     ]
    },
    {
     "name": "stdout",
     "output_type": "stream",
     "text": [
      "24/24 [==============================] - 2s 63ms/step - loss: 1.9306 - accuracy: 0.3548 - val_loss: 3.0300 - val_accuracy: 0.1515\n",
      "Epoch 59/80\n",
      "24/24 [==============================] - 1s 57ms/step - loss: 1.9947 - accuracy: 0.3817 - val_loss: 3.0652 - val_accuracy: 0.1818\n",
      "Epoch 60/80\n",
      "24/24 [==============================] - 1s 58ms/step - loss: 1.9796 - accuracy: 0.3172 - val_loss: 3.0069 - val_accuracy: 0.1818\n",
      "Epoch 61/80\n",
      "24/24 [==============================] - 1s 57ms/step - loss: 1.8931 - accuracy: 0.3871 - val_loss: 3.0753 - val_accuracy: 0.1515\n",
      "Epoch 62/80\n",
      "24/24 [==============================] - 1s 57ms/step - loss: 1.8754 - accuracy: 0.3441 - val_loss: 3.0725 - val_accuracy: 0.1515\n",
      "Epoch 63/80\n",
      "24/24 [==============================] - 1s 58ms/step - loss: 1.8281 - accuracy: 0.3441 - val_loss: 3.1414 - val_accuracy: 0.1818\n",
      "Epoch 64/80\n",
      "24/24 [==============================] - 1s 59ms/step - loss: 1.8749 - accuracy: 0.3495 - val_loss: 3.0338 - val_accuracy: 0.2121\n",
      "Epoch 65/80\n",
      "24/24 [==============================] - 1s 59ms/step - loss: 1.8578 - accuracy: 0.3710 - val_loss: 3.2060 - val_accuracy: 0.2121\n",
      "Epoch 66/80\n",
      "24/24 [==============================] - 1s 59ms/step - loss: 1.8166 - accuracy: 0.3763 - val_loss: 3.0332 - val_accuracy: 0.2424\n",
      "Epoch 67/80\n",
      "24/24 [==============================] - 1s 59ms/step - loss: 1.8275 - accuracy: 0.3495 - val_loss: 3.1367 - val_accuracy: 0.2121\n",
      "Epoch 68/80\n",
      "24/24 [==============================] - 1s 57ms/step - loss: 1.7971 - accuracy: 0.3817 - val_loss: 3.0869 - val_accuracy: 0.1818\n",
      "Epoch 69/80\n",
      "24/24 [==============================] - 1s 58ms/step - loss: 1.8386 - accuracy: 0.3925 - val_loss: 3.0784 - val_accuracy: 0.1818\n",
      "Epoch 70/80\n",
      "24/24 [==============================] - 1s 57ms/step - loss: 1.7331 - accuracy: 0.3925 - val_loss: 3.0338 - val_accuracy: 0.2121\n",
      "Epoch 71/80\n",
      "24/24 [==============================] - 1s 58ms/step - loss: 1.7279 - accuracy: 0.3978 - val_loss: 2.9976 - val_accuracy: 0.1818\n",
      "Epoch 72/80\n",
      "24/24 [==============================] - 1s 59ms/step - loss: 1.6897 - accuracy: 0.4247 - val_loss: 3.0187 - val_accuracy: 0.2121\n",
      "Epoch 73/80\n",
      "24/24 [==============================] - 1s 59ms/step - loss: 1.6707 - accuracy: 0.4462 - val_loss: 3.1162 - val_accuracy: 0.2424\n",
      "Epoch 74/80\n",
      "24/24 [==============================] - 1s 59ms/step - loss: 1.7135 - accuracy: 0.3817 - val_loss: 3.0388 - val_accuracy: 0.2727\n",
      "Epoch 75/80\n",
      "24/24 [==============================] - 1s 62ms/step - loss: 1.6764 - accuracy: 0.4462 - val_loss: 3.0670 - val_accuracy: 0.2121\n",
      "Epoch 76/80\n",
      "24/24 [==============================] - 1s 60ms/step - loss: 1.7108 - accuracy: 0.3710 - val_loss: 3.0283 - val_accuracy: 0.1818\n",
      "Epoch 77/80\n",
      "24/24 [==============================] - 1s 60ms/step - loss: 1.6722 - accuracy: 0.4140 - val_loss: 2.9410 - val_accuracy: 0.2424\n",
      "Epoch 78/80\n",
      "24/24 [==============================] - 1s 57ms/step - loss: 1.6314 - accuracy: 0.4409 - val_loss: 3.0935 - val_accuracy: 0.1818\n",
      "Epoch 79/80\n",
      "24/24 [==============================] - 1s 57ms/step - loss: 1.6390 - accuracy: 0.4032 - val_loss: 2.9935 - val_accuracy: 0.2424\n",
      "Epoch 80/80\n",
      "24/24 [==============================] - 1s 59ms/step - loss: 1.5558 - accuracy: 0.5215 - val_loss: 3.1134 - val_accuracy: 0.2121\n",
      "model created\n"
     ]
    }
   ],
   "source": [
    "#fitting and saving the model\n",
    "\n",
    "hist2 = lstm_model.fit(x_train, y_train, epochs=80, validation_data=(x_test, y_test), batch_size=8, verbose=1)\n",
    "\n",
    "lstm_model.save('chatbot_model.h5', hist)\n",
    "\n",
    "print(\"model created\")\n",
    "\n",
    "y_predict=lstm_model.predict(x)\n",
    "rmse = (np.sqrt(mean_squared_error(y, y_predict)))"
   ]
  },
  {
   "cell_type": "code",
   "execution_count": 74,
   "id": "1ebf9e7c",
   "metadata": {},
   "outputs": [
    {
     "name": "stdout",
     "output_type": "stream",
     "text": [
      "Performance of training data\n",
      "RMSE is 0.18833271817331224\n",
      "\n",
      "\n"
     ]
    },
    {
     "data": {
      "image/png": "[encoded data removed]",
      "text/plain": [
       "<Figure size 432x288 with 1 Axes>"
      ]
     },
     "metadata": {
      "needs_background": "light"
     },
     "output_type": "display_data"
    },
    {
     "data": {
      "image/png": "[encoded data removed]",
      "text/plain": [
       "<Figure size 432x288 with 1 Axes>"
      ]
     },
     "metadata": {
      "needs_background": "light"
     },
     "output_type": "display_data"
    },
    {
     "data": {
      "image/png": "[encoded data removed]",
      "text/plain": [
       "<Figure size 432x288 with 1 Axes>"
      ]
     },
     "metadata": {
      "needs_background": "light"
     },
     "output_type": "display_data"
    }
   ],
   "source": [
    "# Evaluating the model\n",
    "\n",
    "print(\"Performance of training data\")\n",
    "print(\"RMSE is {}\".format(rmse))\n",
    "print(\"\\n\")\n",
    "\n",
    "loss = hist2.history['loss']\n",
    "#val_loss = hist2.history['val_loss']\n",
    "epochs = range(1, len(loss) + 1)\n",
    "plt.plot(epochs, loss, 'y', label='Training loss')\n",
    "#plt.plot(epochs, val_loss, 'r', label=\"Validation Loss\")\n",
    "plt.title(\"Training Loss\")\n",
    "plt.xlabel(\"Epochs\")\n",
    "plt.ylabel(\"Loss\")\n",
    "plt.legend()\n",
    "plt.show()\n",
    "\n",
    "acc = hist2.history[\"accuracy\"]\n",
    "#val_acc = hist2.history[\"val_accuracy\"]\n",
    "plt.plot(epochs, acc, \"y\", label=\"Training Acc\")\n",
    "#plt.plot(epochs, val_acc, 'r', label = 'Validation Acc')\n",
    "plt.title(\"Training Accuracy\")\n",
    "plt.xlabel(\"Epochs\")\n",
    "plt.ylabel(\"Loss\")\n",
    "plt.legend()\n",
    "plt.show()\n",
    "\n",
    "acc = hist2.history['accuracy']\n",
    "#val_acc = hist2.history['val_accuracy']\n",
    "plt.plot(epochs, acc, 'y', label=\"Validation Acc\")\n",
    "plt.title(\"Validation Accuracy\")\n",
    "plt.xlabel(\"Epochs\")\n",
    "plt.ylabel(\"Accuracy\")\n",
    "plt.legend()\n",
    "plt.show()"
   ]
  },
  {
   "cell_type": "markdown",
   "id": "34f663da",
   "metadata": {},
   "source": [
    "# Bi-directional LSTM Model"
   ]
  },
  {
   "cell_type": "code",
   "execution_count": 75,
   "id": "f4e50062",
   "metadata": {},
   "outputs": [
    {
     "name": "stdout",
     "output_type": "stream",
     "text": [
      "Model: \"sequential_19\"\n",
      "_________________________________________________________________\n",
      " Layer (type)                Output Shape              Param #   \n",
      "=================================================================\n",
      " embedding_17 (Embedding)    (None, 174, 20)           120000    \n",
      "                                                                 \n",
      " bidirectional_12 (Bidirecti  (None, 64)               13568     \n",
      " onal)                                                           \n",
      "                                                                 \n",
      " dense_43 (Dense)            (None, 256)               16640     \n",
      "                                                                 \n",
      " dropout_22 (Dropout)        (None, 256)               0         \n",
      "                                                                 \n",
      " dense_44 (Dense)            (None, 19)                4883      \n",
      "                                                                 \n",
      "=================================================================\n",
      "Total params: 155,091\n",
      "Trainable params: 155,091\n",
      "Non-trainable params: 0\n",
      "_________________________________________________________________\n"
     ]
    }
   ],
   "source": [
    "# Defining the LSTM model\n",
    "\n",
    "lstm_model = tf.keras.Sequential([\n",
    "    tf.keras.layers.Embedding(vocab_size, embedding_dim, input_length = max_length),    #Embedding Layer \n",
    "    tf.keras.layers.Bidirectional(tf.keras.layers.LSTM(32)),   #LSTM Layer with 32 output channels \n",
    "    tf.keras.layers.Dense(256, activation='relu'), \n",
    "    tf.keras.layers.Dropout(0.5), \n",
    "    tf.keras.layers.Dense(len(y[0]), activation='softmax')             #Final output layer activated by softmax function\n",
    "])\n",
    "\n",
    "lstm_model.compile(loss='categorical_crossentropy',optimizer='adam',metrics=['accuracy'])  #calculating loss and optimizing\n",
    "lstm_model.summary()"
   ]
  },
  {
   "cell_type": "code",
   "execution_count": 76,
   "id": "7fa44a57",
   "metadata": {},
   "outputs": [
    {
     "name": "stdout",
     "output_type": "stream",
     "text": [
      "Epoch 1/80\n",
      "24/24 [==============================] - 5s 111ms/step - loss: 2.9384 - accuracy: 0.0806 - val_loss: 2.9384 - val_accuracy: 0.0606\n",
      "Epoch 2/80\n",
      "24/24 [==============================] - 2s 80ms/step - loss: 2.8984 - accuracy: 0.1183 - val_loss: 2.9551 - val_accuracy: 0.0606\n",
      "Epoch 3/80\n",
      "24/24 [==============================] - 2s 78ms/step - loss: 2.9011 - accuracy: 0.1183 - val_loss: 2.9396 - val_accuracy: 0.0606\n",
      "Epoch 4/80\n",
      "24/24 [==============================] - 2s 73ms/step - loss: 2.8490 - accuracy: 0.1183 - val_loss: 2.9709 - val_accuracy: 0.0606\n",
      "Epoch 5/80\n",
      "24/24 [==============================] - 2s 75ms/step - loss: 2.8498 - accuracy: 0.1183 - val_loss: 2.9631 - val_accuracy: 0.0606\n",
      "Epoch 6/80\n",
      "24/24 [==============================] - 2s 75ms/step - loss: 2.8724 - accuracy: 0.1183 - val_loss: 2.9491 - val_accuracy: 0.0606\n",
      "Epoch 7/80\n",
      "24/24 [==============================] - 2s 74ms/step - loss: 2.8519 - accuracy: 0.1183 - val_loss: 2.9586 - val_accuracy: 0.0606\n",
      "Epoch 8/80\n",
      "24/24 [==============================] - 2s 75ms/step - loss: 2.8553 - accuracy: 0.1183 - val_loss: 2.9519 - val_accuracy: 0.0606\n",
      "Epoch 9/80\n",
      "24/24 [==============================] - 2s 74ms/step - loss: 2.8598 - accuracy: 0.1183 - val_loss: 2.9500 - val_accuracy: 0.0606\n",
      "Epoch 10/80\n",
      "24/24 [==============================] - 2s 75ms/step - loss: 2.8488 - accuracy: 0.1183 - val_loss: 2.9564 - val_accuracy: 0.0606\n",
      "Epoch 11/80\n",
      "24/24 [==============================] - 2s 80ms/step - loss: 2.8774 - accuracy: 0.1183 - val_loss: 2.9487 - val_accuracy: 0.0606\n",
      "Epoch 12/80\n",
      "24/24 [==============================] - 2s 82ms/step - loss: 2.8509 - accuracy: 0.1183 - val_loss: 2.9531 - val_accuracy: 0.0606\n",
      "Epoch 13/80\n",
      "24/24 [==============================] - 2s 83ms/step - loss: 2.8674 - accuracy: 0.1183 - val_loss: 2.9491 - val_accuracy: 0.0606\n",
      "Epoch 14/80\n",
      "24/24 [==============================] - 2s 80ms/step - loss: 2.8522 - accuracy: 0.1183 - val_loss: 2.9517 - val_accuracy: 0.0606\n",
      "Epoch 15/80\n",
      "24/24 [==============================] - 2s 80ms/step - loss: 2.8656 - accuracy: 0.1183 - val_loss: 2.9472 - val_accuracy: 0.0606\n",
      "Epoch 16/80\n",
      "24/24 [==============================] - 2s 81ms/step - loss: 2.8475 - accuracy: 0.1183 - val_loss: 2.9478 - val_accuracy: 0.0606\n",
      "Epoch 17/80\n",
      "24/24 [==============================] - 2s 81ms/step - loss: 2.8518 - accuracy: 0.1183 - val_loss: 2.9358 - val_accuracy: 0.0606\n",
      "Epoch 18/80\n",
      "24/24 [==============================] - 2s 82ms/step - loss: 2.8261 - accuracy: 0.1344 - val_loss: 2.9179 - val_accuracy: 0.0909\n",
      "Epoch 19/80\n",
      "24/24 [==============================] - 2s 83ms/step - loss: 2.7740 - accuracy: 0.1452 - val_loss: 2.9068 - val_accuracy: 0.0909\n",
      "Epoch 20/80\n",
      "24/24 [==============================] - 2s 82ms/step - loss: 2.6925 - accuracy: 0.1505 - val_loss: 2.8818 - val_accuracy: 0.0303\n",
      "Epoch 21/80\n",
      "24/24 [==============================] - 2s 81ms/step - loss: 2.6863 - accuracy: 0.1720 - val_loss: 2.8221 - val_accuracy: 0.0909\n",
      "Epoch 22/80\n",
      "24/24 [==============================] - 2s 75ms/step - loss: 2.5731 - accuracy: 0.1828 - val_loss: 2.7325 - val_accuracy: 0.1212\n",
      "Epoch 23/80\n",
      "24/24 [==============================] - 2s 74ms/step - loss: 2.5313 - accuracy: 0.1989 - val_loss: 2.7624 - val_accuracy: 0.0909\n",
      "Epoch 24/80\n",
      "24/24 [==============================] - 2s 76ms/step - loss: 2.4575 - accuracy: 0.2043 - val_loss: 2.7122 - val_accuracy: 0.0909\n",
      "Epoch 25/80\n",
      "24/24 [==============================] - 2s 76ms/step - loss: 2.3995 - accuracy: 0.2097 - val_loss: 2.7201 - val_accuracy: 0.0909\n",
      "Epoch 26/80\n",
      "24/24 [==============================] - 2s 75ms/step - loss: 2.3867 - accuracy: 0.2473 - val_loss: 2.7016 - val_accuracy: 0.1212\n",
      "Epoch 27/80\n",
      "24/24 [==============================] - 2s 79ms/step - loss: 2.3507 - accuracy: 0.2473 - val_loss: 2.6987 - val_accuracy: 0.1212\n",
      "Epoch 28/80\n",
      "24/24 [==============================] - 2s 77ms/step - loss: 2.2774 - accuracy: 0.2473 - val_loss: 2.6940 - val_accuracy: 0.1212\n",
      "Epoch 29/80\n",
      "24/24 [==============================] - 2s 80ms/step - loss: 2.2861 - accuracy: 0.2473 - val_loss: 2.7236 - val_accuracy: 0.1212\n",
      "Epoch 30/80\n",
      "24/24 [==============================] - 2s 80ms/step - loss: 2.2114 - accuracy: 0.2527 - val_loss: 2.7535 - val_accuracy: 0.1212\n",
      "Epoch 31/80\n",
      "24/24 [==============================] - 2s 82ms/step - loss: 2.1921 - accuracy: 0.2527 - val_loss: 2.8001 - val_accuracy: 0.1212\n",
      "Epoch 32/80\n",
      "24/24 [==============================] - 2s 81ms/step - loss: 2.1934 - accuracy: 0.2204 - val_loss: 2.6767 - val_accuracy: 0.1818\n",
      "Epoch 33/80\n",
      "24/24 [==============================] - 2s 81ms/step - loss: 2.0783 - accuracy: 0.3333 - val_loss: 2.7295 - val_accuracy: 0.1818\n",
      "Epoch 34/80\n",
      "24/24 [==============================] - 2s 81ms/step - loss: 1.9973 - accuracy: 0.3656 - val_loss: 2.7320 - val_accuracy: 0.1818\n",
      "Epoch 35/80\n",
      "24/24 [==============================] - 2s 81ms/step - loss: 1.9373 - accuracy: 0.3495 - val_loss: 2.7282 - val_accuracy: 0.1818\n",
      "Epoch 36/80\n",
      "24/24 [==============================] - 2s 74ms/step - loss: 1.8126 - accuracy: 0.3871 - val_loss: 2.7433 - val_accuracy: 0.2121\n",
      "Epoch 37/80\n",
      "24/24 [==============================] - 2s 78ms/step - loss: 1.8437 - accuracy: 0.3710 - val_loss: 2.6789 - val_accuracy: 0.2424\n",
      "Epoch 38/80\n",
      "24/24 [==============================] - 2s 79ms/step - loss: 1.7365 - accuracy: 0.3978 - val_loss: 2.7684 - val_accuracy: 0.2727\n",
      "Epoch 39/80\n",
      "24/24 [==============================] - 2s 83ms/step - loss: 1.6976 - accuracy: 0.4140 - val_loss: 2.7752 - val_accuracy: 0.2121\n",
      "Epoch 40/80\n",
      "24/24 [==============================] - 2s 84ms/step - loss: 1.6270 - accuracy: 0.4355 - val_loss: 2.8070 - val_accuracy: 0.1818\n",
      "Epoch 41/80\n",
      "24/24 [==============================] - 2s 83ms/step - loss: 1.5116 - accuracy: 0.5000 - val_loss: 2.8872 - val_accuracy: 0.2121\n",
      "Epoch 42/80\n",
      "24/24 [==============================] - 2s 84ms/step - loss: 1.6131 - accuracy: 0.4731 - val_loss: 2.8370 - val_accuracy: 0.2424\n",
      "Epoch 43/80\n",
      "24/24 [==============================] - 2s 83ms/step - loss: 1.4736 - accuracy: 0.5161 - val_loss: 3.0615 - val_accuracy: 0.1818\n",
      "Epoch 44/80\n",
      "24/24 [==============================] - 2s 83ms/step - loss: 1.4913 - accuracy: 0.4892 - val_loss: 2.9733 - val_accuracy: 0.2727\n",
      "Epoch 45/80\n",
      "24/24 [==============================] - 2s 83ms/step - loss: 1.4476 - accuracy: 0.4892 - val_loss: 2.8669 - val_accuracy: 0.3030\n",
      "Epoch 46/80\n",
      "24/24 [==============================] - 2s 87ms/step - loss: 1.3793 - accuracy: 0.5323 - val_loss: 2.9523 - val_accuracy: 0.2727\n",
      "Epoch 47/80\n",
      "24/24 [==============================] - 2s 78ms/step - loss: 1.2684 - accuracy: 0.5645 - val_loss: 2.9624 - val_accuracy: 0.2424\n",
      "Epoch 48/80\n",
      "24/24 [==============================] - 2s 77ms/step - loss: 1.2256 - accuracy: 0.5645 - val_loss: 3.1517 - val_accuracy: 0.2121\n",
      "Epoch 49/80\n",
      "24/24 [==============================] - 2s 73ms/step - loss: 1.3469 - accuracy: 0.5376 - val_loss: 2.9492 - val_accuracy: 0.3333\n",
      "Epoch 50/80\n",
      "24/24 [==============================] - 2s 74ms/step - loss: 1.2160 - accuracy: 0.5269 - val_loss: 2.9563 - val_accuracy: 0.3333\n",
      "Epoch 51/80\n",
      "24/24 [==============================] - 2s 80ms/step - loss: 1.0826 - accuracy: 0.6398 - val_loss: 3.0811 - val_accuracy: 0.2121\n",
      "Epoch 52/80\n",
      "24/24 [==============================] - 2s 82ms/step - loss: 1.1006 - accuracy: 0.6183 - val_loss: 3.0575 - val_accuracy: 0.3030\n",
      "Epoch 53/80\n",
      "24/24 [==============================] - 2s 90ms/step - loss: 1.1526 - accuracy: 0.5860 - val_loss: 2.9684 - val_accuracy: 0.3636\n",
      "Epoch 54/80\n",
      "24/24 [==============================] - 2s 89ms/step - loss: 1.1667 - accuracy: 0.5753 - val_loss: 2.8730 - val_accuracy: 0.3030\n",
      "Epoch 55/80\n",
      "24/24 [==============================] - 2s 86ms/step - loss: 1.0889 - accuracy: 0.6237 - val_loss: 2.8903 - val_accuracy: 0.2424\n",
      "Epoch 56/80\n",
      "24/24 [==============================] - 2s 85ms/step - loss: 1.0393 - accuracy: 0.6344 - val_loss: 3.1394 - val_accuracy: 0.3030\n",
      "Epoch 57/80\n",
      "24/24 [==============================] - 2s 83ms/step - loss: 1.0520 - accuracy: 0.6344 - val_loss: 3.1030 - val_accuracy: 0.2424\n",
      "Epoch 58/80\n",
      "24/24 [==============================] - 2s 82ms/step - loss: 0.9596 - accuracy: 0.6774 - val_loss: 3.1700 - val_accuracy: 0.3333\n"
     ]
    },
    {
     "name": "stdout",
     "output_type": "stream",
     "text": [
      "Epoch 59/80\n",
      "24/24 [==============================] - 2s 76ms/step - loss: 0.9277 - accuracy: 0.6935 - val_loss: 3.1354 - val_accuracy: 0.2727\n",
      "Epoch 60/80\n",
      "24/24 [==============================] - 2s 78ms/step - loss: 0.9548 - accuracy: 0.6452 - val_loss: 3.2626 - val_accuracy: 0.3030\n",
      "Epoch 61/80\n",
      "24/24 [==============================] - 2s 83ms/step - loss: 0.9679 - accuracy: 0.6774 - val_loss: 3.2025 - val_accuracy: 0.3030\n",
      "Epoch 62/80\n",
      "24/24 [==============================] - 2s 80ms/step - loss: 0.9274 - accuracy: 0.6935 - val_loss: 3.3621 - val_accuracy: 0.3333\n",
      "Epoch 63/80\n",
      "24/24 [==============================] - 2s 81ms/step - loss: 0.9828 - accuracy: 0.6613 - val_loss: 3.3786 - val_accuracy: 0.2424\n",
      "Epoch 64/80\n",
      "24/24 [==============================] - 2s 81ms/step - loss: 0.9770 - accuracy: 0.6398 - val_loss: 3.2090 - val_accuracy: 0.2727\n",
      "Epoch 65/80\n",
      "24/24 [==============================] - 2s 85ms/step - loss: 0.9545 - accuracy: 0.6720 - val_loss: 3.1976 - val_accuracy: 0.2424\n",
      "Epoch 66/80\n",
      "24/24 [==============================] - 2s 84ms/step - loss: 1.0181 - accuracy: 0.6237 - val_loss: 3.1804 - val_accuracy: 0.3030\n",
      "Epoch 67/80\n",
      "24/24 [==============================] - 2s 84ms/step - loss: 1.0479 - accuracy: 0.6075 - val_loss: 3.3059 - val_accuracy: 0.2727\n",
      "Epoch 68/80\n",
      "24/24 [==============================] - 2s 86ms/step - loss: 0.8710 - accuracy: 0.7043 - val_loss: 3.2028 - val_accuracy: 0.2727\n",
      "Epoch 69/80\n",
      "24/24 [==============================] - 2s 84ms/step - loss: 0.8709 - accuracy: 0.6828 - val_loss: 3.2117 - val_accuracy: 0.2727\n",
      "Epoch 70/80\n",
      "24/24 [==============================] - 2s 82ms/step - loss: 0.8560 - accuracy: 0.7151 - val_loss: 3.1562 - val_accuracy: 0.2727\n",
      "Epoch 71/80\n",
      "24/24 [==============================] - 2s 84ms/step - loss: 0.8388 - accuracy: 0.6989 - val_loss: 3.3784 - val_accuracy: 0.2727\n",
      "Epoch 72/80\n",
      "24/24 [==============================] - 2s 82ms/step - loss: 0.7140 - accuracy: 0.7312 - val_loss: 3.4405 - val_accuracy: 0.2424\n",
      "Epoch 73/80\n",
      "24/24 [==============================] - 2s 82ms/step - loss: 0.8066 - accuracy: 0.6989 - val_loss: 3.2807 - val_accuracy: 0.2424\n",
      "Epoch 74/80\n",
      "24/24 [==============================] - 2s 87ms/step - loss: 0.7701 - accuracy: 0.7151 - val_loss: 3.2502 - val_accuracy: 0.2424\n",
      "Epoch 75/80\n",
      "24/24 [==============================] - 2s 85ms/step - loss: 0.7729 - accuracy: 0.7204 - val_loss: 3.3196 - val_accuracy: 0.2424\n",
      "Epoch 76/80\n",
      "24/24 [==============================] - 2s 82ms/step - loss: 0.7105 - accuracy: 0.7204 - val_loss: 3.3798 - val_accuracy: 0.3030\n",
      "Epoch 77/80\n",
      "24/24 [==============================] - 2s 74ms/step - loss: 0.7170 - accuracy: 0.7419 - val_loss: 3.4924 - val_accuracy: 0.2424\n",
      "Epoch 78/80\n",
      "24/24 [==============================] - 2s 76ms/step - loss: 0.7032 - accuracy: 0.7312 - val_loss: 3.5208 - val_accuracy: 0.2727\n",
      "Epoch 79/80\n",
      "24/24 [==============================] - 2s 78ms/step - loss: 0.7187 - accuracy: 0.7312 - val_loss: 3.5281 - val_accuracy: 0.2727\n",
      "Epoch 80/80\n",
      "24/24 [==============================] - 2s 82ms/step - loss: 0.6976 - accuracy: 0.7473 - val_loss: 3.4698 - val_accuracy: 0.2727\n",
      "model created\n"
     ]
    }
   ],
   "source": [
    "#fitting and saving the model\n",
    "\n",
    "hist3 = lstm_model.fit(x_train, y_train, epochs=80, validation_data=(x_test, y_test), batch_size=8, verbose=1)\n",
    "\n",
    "lstm_model.save('chatbot_model.h5', hist)\n",
    "\n",
    "print(\"model created\")\n",
    "\n",
    "y_predict=lstm_model.predict(x)\n",
    "rmse = (np.sqrt(mean_squared_error(y, y_predict)))"
   ]
  },
  {
   "cell_type": "code",
   "execution_count": 77,
   "id": "9babce4e",
   "metadata": {},
   "outputs": [
    {
     "name": "stdout",
     "output_type": "stream",
     "text": [
      "Performance of training data\n",
      "RMSE is 0.13757681229096397\n",
      "\n",
      "\n"
     ]
    },
    {
     "data": {
      "image/png": "[encoded data removed]",
      "text/plain": [
       "<Figure size 432x288 with 1 Axes>"
      ]
     },
     "metadata": {
      "needs_background": "light"
     },
     "output_type": "display_data"
    },
    {
     "data": {
      "image/png": "[encoded data removed]",
      "text/plain": [
       "<Figure size 432x288 with 1 Axes>"
      ]
     },
     "metadata": {
      "needs_background": "light"
     },
     "output_type": "display_data"
    },
    {
     "data": {
      "image/png": "[encoded data removed]",
      "text/plain": [
       "<Figure size 432x288 with 1 Axes>"
      ]
     },
     "metadata": {
      "needs_background": "light"
     },
     "output_type": "display_data"
    }
   ],
   "source": [
    "# Evaluating the model\n",
    "\n",
    "print(\"Performance of training data\")\n",
    "print(\"RMSE is {}\".format(rmse))\n",
    "print(\"\\n\")\n",
    "\n",
    "loss = hist3.history['loss']\n",
    "#val_loss = hist2.history['val_loss']\n",
    "epochs = range(1, len(loss) + 1)\n",
    "plt.plot(epochs, loss, 'y', label='Training loss')\n",
    "#plt.plot(epochs, val_loss, 'r', label=\"Validation Loss\")\n",
    "plt.title(\"Training Loss\")\n",
    "plt.xlabel(\"Epochs\")\n",
    "plt.ylabel(\"Loss\")\n",
    "plt.legend()\n",
    "plt.show()\n",
    "\n",
    "acc = hist3.history[\"accuracy\"]\n",
    "#val_acc = hist3.history[\"val_accuracy\"]\n",
    "plt.plot(epochs, acc, \"y\", label=\"Training Acc\")\n",
    "#plt.plot(epochs, val_acc, 'r', label = 'Validation Acc')\n",
    "plt.title(\"Training Accuracy\")\n",
    "plt.xlabel(\"Epochs\")\n",
    "plt.ylabel(\"Loss\")\n",
    "plt.legend()\n",
    "plt.show()\n",
    "\n",
    "acc = hist3.history['accuracy']\n",
    "#val_acc = hist3.history['val_accuracy']\n",
    "plt.plot(epochs, acc, 'y', label=\"Validation Acc\")\n",
    "plt.title(\"Validation Accuracy\")\n",
    "plt.xlabel(\"Epochs\")\n",
    "plt.ylabel(\"Accuracy\")\n",
    "plt.legend()\n",
    "plt.show()"
   ]
  },
  {
   "cell_type": "markdown",
   "id": "9a18818b",
   "metadata": {},
   "source": [
    "# Comparing the three models"
   ]
  },
  {
   "cell_type": "code",
   "execution_count": 78,
   "id": "2432165c",
   "metadata": {},
   "outputs": [
    {
     "data": {
      "text/html": [
       "<div>\n",
       "<style scoped>\n",
       "    .dataframe tbody tr th:only-of-type {\n",
       "        vertical-align: middle;\n",
       "    }\n",
       "\n",
       "    .dataframe tbody tr th {\n",
       "        vertical-align: top;\n",
       "    }\n",
       "\n",
       "    .dataframe thead th {\n",
       "        text-align: right;\n",
       "    }\n",
       "</style>\n",
       "<table border=\"1\" class=\"dataframe\">\n",
       "  <thead>\n",
       "    <tr style=\"text-align: right;\">\n",
       "      <th></th>\n",
       "      <th>Accuracy</th>\n",
       "      <th>Loss</th>\n",
       "    </tr>\n",
       "  </thead>\n",
       "  <tbody>\n",
       "    <tr>\n",
       "      <th>NN</th>\n",
       "      <td>0.878788</td>\n",
       "      <td>2.827366</td>\n",
       "    </tr>\n",
       "    <tr>\n",
       "      <th>LSTM</th>\n",
       "      <td>0.272727</td>\n",
       "      <td>3.206015</td>\n",
       "    </tr>\n",
       "    <tr>\n",
       "      <th>Bi-LSTM</th>\n",
       "      <td>0.363636</td>\n",
       "      <td>3.528064</td>\n",
       "    </tr>\n",
       "  </tbody>\n",
       "</table>\n",
       "</div>"
      ],
      "text/plain": [
       "         Accuracy      Loss\n",
       "NN       0.878788  2.827366\n",
       "LSTM     0.272727  3.206015\n",
       "Bi-LSTM  0.363636  3.528064"
      ]
     },
     "execution_count": 78,
     "metadata": {},
     "output_type": "execute_result"
    }
   ],
   "source": [
    "# Plotting comparison between 3 models\n",
    "\n",
    "import pandas as pd\n",
    "from pandas import DataFrame\n",
    "accuracy = [max(hist.history['val_accuracy']),max(hist2.history['val_accuracy']),max(hist3.history['val_accuracy'])]\n",
    "loss = [max(hist.history['val_loss']),max(hist2.history['val_loss']),max(hist3.history['val_loss'])]\n",
    "\n",
    "col={'Accuracy':accuracy,'Loss':loss}\n",
    "models=['NN','LSTM','Bi-LSTM']\n",
    "graph_df=DataFrame(data=col,index=models)\n",
    "graph_df"
   ]
  },
  {
   "cell_type": "code",
   "execution_count": 79,
   "id": "8516b9f9",
   "metadata": {},
   "outputs": [
    {
     "data": {
      "text/plain": [
       "<AxesSubplot:>"
      ]
     },
     "execution_count": 79,
     "metadata": {},
     "output_type": "execute_result"
    },
    {
     "data": {
      "image/png": "[encoded data removed]",
      "text/plain": [
       "<Figure size 432x288 with 1 Axes>"
      ]
     },
     "metadata": {
      "needs_background": "light"
     },
     "output_type": "display_data"
    }
   ],
   "source": [
    "graph_df.plot(kind='bar') "
   ]
  },
  {
   "cell_type": "code",
   "execution_count": null,
   "id": "501dbae3",
   "metadata": {},
   "outputs": [],
   "source": []
  },
  {
   "cell_type": "code",
   "execution_count": null,
   "id": "33ca6d63",
   "metadata": {},
   "outputs": [],
   "source": []
  }
 ],
 "metadata": {
  "kernelspec": {
   "display_name": "Python 3",
   "language": "python",
   "name": "python3"
  },
  "language_info": {
   "codemirror_mode": {
    "name": "ipython",
    "version": 3
   },
   "file_extension": ".py",
   "mimetype": "text/x-python",
   "name": "python",
   "nbconvert_exporter": "python",
   "pygments_lexer": "ipython3",
   "version": "3.8.8"
  }
 },
 "nbformat": 4,
 "nbformat_minor": 5
}
